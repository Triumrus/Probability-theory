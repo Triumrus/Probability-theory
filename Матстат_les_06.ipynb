{
  "nbformat": 4,
  "nbformat_minor": 0,
  "metadata": {
    "colab": {
      "name": "Матстат les 06",
      "version": "0.3.2",
      "provenance": [],
      "collapsed_sections": [],
      "include_colab_link": true
    },
    "kernelspec": {
      "name": "python3",
      "display_name": "Python 3"
    }
  },
  "cells": [
    {
      "cell_type": "markdown",
      "metadata": {
        "id": "view-in-github",
        "colab_type": "text"
      },
      "source": [
        "<a href=\"https://colab.research.google.com/github/panzershracker/Probability-theory/blob/master/%D0%9C%D0%B0%D1%82%D1%81%D1%82%D0%B0%D1%82_les_06.ipynb\" target=\"_parent\"><img src=\"https://colab.research.google.com/assets/colab-badge.svg\" alt=\"Open In Colab\"/></a>"
      ]
    },
    {
      "cell_type": "code",
      "metadata": {
        "id": "6V8qTyQDVCk7",
        "colab_type": "code",
        "colab": {}
      },
      "source": [
        "import numpy as np\n",
        "import pandas as pd\n",
        "import matplotlib.pyplot as plt"
      ],
      "execution_count": 0,
      "outputs": []
    },
    {
      "cell_type": "markdown",
      "metadata": {
        "id": "5XDdw6A-XKRJ",
        "colab_type": "text"
      },
      "source": [
        "1) Даны значения величины заработной платы заемщиков банка (zp) и значения их поведенческого кредитного скоринга (ks):\n",
        " \n",
        "zp = [35, 45, 190, 200, 40, 70, 54, 150, 120, 110],\n",
        "\n",
        "ks = [401, 574, 874, 919, 459, 739, 653, 902, 746, 832].\n",
        "\n",
        "Найдите ковариацию этих двух величин с помощью элементарных действий, а затем с помощью функции cov из numpy\n",
        "Полученные значения должны быть равны.\n",
        "Найдите коэффициент корреляции Пирсона с помощью ковариации и среднеквадратичных отклонений двух признаков,\n",
        "а затем с использованием функций из библиотек numpy и pandas."
      ]
    },
    {
      "cell_type": "code",
      "metadata": {
        "id": "qrqvANRnXK2A",
        "colab_type": "code",
        "colab": {}
      },
      "source": [
        "zp =np.array([35, 45, 190, 200, 40, 70, 54, 150, 120, 110])\n",
        "\n",
        "ks = np.array([401, 574, 874, 919, 459, 739, 653, 902, 746, 832])"
      ],
      "execution_count": 0,
      "outputs": []
    },
    {
      "cell_type": "code",
      "metadata": {
        "id": "jOfuzIXrJTp8",
        "colab_type": "code",
        "colab": {}
      },
      "source": [
        "x, y = ks, zp"
      ],
      "execution_count": 0,
      "outputs": []
    },
    {
      "cell_type": "code",
      "metadata": {
        "id": "x98aVSqp71wj",
        "colab_type": "code",
        "outputId": "da6930c7-56c8-4a77-8228-7eda503b6229",
        "colab": {
          "base_uri": "https://localhost:8080/",
          "height": 35
        }
      },
      "source": [
        "# расчет ковариации вручную\n",
        "\n",
        "cov = np.mean(x*y) - np.mean(x) * np.mean(y)\n",
        "\n",
        "cov"
      ],
      "execution_count": 0,
      "outputs": [
        {
          "output_type": "execute_result",
          "data": {
            "text/plain": [
              "9157.839999999997"
            ]
          },
          "metadata": {
            "tags": []
          },
          "execution_count": 87
        }
      ]
    },
    {
      "cell_type": "code",
      "metadata": {
        "id": "__8TG4IqK86H",
        "colab_type": "code",
        "outputId": "53690772-1740-4c67-9109-987e08e5d8c7",
        "colab": {
          "base_uri": "https://localhost:8080/",
          "height": 35
        }
      },
      "source": [
        "# ковариации не равны, т.к. вручную посчитана смещенная оценка, а програмно - несмещенная\n",
        "\n",
        "cov == np.cov(y, x)[1,0]"
      ],
      "execution_count": 0,
      "outputs": [
        {
          "output_type": "execute_result",
          "data": {
            "text/plain": [
              "False"
            ]
          },
          "metadata": {
            "tags": []
          },
          "execution_count": 86
        }
      ]
    },
    {
      "cell_type": "code",
      "metadata": {
        "id": "pPILngFkKjQ7",
        "colab_type": "code",
        "outputId": "8e99fd50-7dfa-4efb-8b91-cebdedb69813",
        "colab": {
          "base_uri": "https://localhost:8080/",
          "height": 35
        }
      },
      "source": [
        "# Округлим значение полученное вручную до 3-х знаков после запятой и \n",
        "# сравним его с програмно расчитанной ковариацией с параметром степени свободы = 1\n",
        "\n",
        "cov.round(3) == np.cov(x, y, ddof=0)[1,0]"
      ],
      "execution_count": 0,
      "outputs": [
        {
          "output_type": "execute_result",
          "data": {
            "text/plain": [
              "True"
            ]
          },
          "metadata": {
            "tags": []
          },
          "execution_count": 89
        }
      ]
    },
    {
      "cell_type": "code",
      "metadata": {
        "id": "DYH9jlKgJ7Jd",
        "colab_type": "code",
        "outputId": "a77fa2b4-f170-4a2f-945f-25bc4382e767",
        "colab": {
          "base_uri": "https://localhost:8080/",
          "height": 35
        }
      },
      "source": [
        "# Найдем коэф. корреляции пирсона вручную\n",
        "\n",
        "r = (cov / (np.std(x) * np.std(y))).round(3)\n",
        "\n",
        "r"
      ],
      "execution_count": 0,
      "outputs": [
        {
          "output_type": "execute_result",
          "data": {
            "text/plain": [
              "0.887"
            ]
          },
          "metadata": {
            "tags": []
          },
          "execution_count": 100
        }
      ]
    },
    {
      "cell_type": "code",
      "metadata": {
        "id": "FIGc4Q8gNCs9",
        "colab_type": "code",
        "colab": {}
      },
      "source": [
        "np_cor = (np.corrcoef(x, y)[1, 0]).round(3)"
      ],
      "execution_count": 0,
      "outputs": []
    },
    {
      "cell_type": "code",
      "metadata": {
        "id": "jYg9V2fRNQlK",
        "colab_type": "code",
        "outputId": "9c7b7ef2-77ef-4d5c-80b0-9d7bb0d398c9",
        "colab": {
          "base_uri": "https://localhost:8080/",
          "height": 35
        }
      },
      "source": [
        "# сравним расчеты с програмными\n",
        "\n",
        "r == np_cor"
      ],
      "execution_count": 0,
      "outputs": [
        {
          "output_type": "execute_result",
          "data": {
            "text/plain": [
              "True"
            ]
          },
          "metadata": {
            "tags": []
          },
          "execution_count": 102
        }
      ]
    },
    {
      "cell_type": "markdown",
      "metadata": {
        "id": "vGUYtlKWXLYw",
        "colab_type": "text"
      },
      "source": [
        "2) Измерены значения IQ выборки студентов,\n",
        "обучающихся в местных технических вузах:\n",
        "\n",
        "131, 125, 115, 122, 131, 115, 107, 99, 125, 111.\n",
        "\n",
        "Известно, что в генеральной совокупности IQ распределен нормально.\n",
        "Найдите доверительный интервал для математического ожидания с надежностью 0.95."
      ]
    },
    {
      "cell_type": "code",
      "metadata": {
        "id": "DkdPLoElXL5x",
        "colab_type": "code",
        "colab": {}
      },
      "source": [
        "iq = np.array([131, 125, 115, 122, 131, 115, 107, 99, 125, 111])"
      ],
      "execution_count": 0,
      "outputs": []
    },
    {
      "cell_type": "code",
      "metadata": {
        "id": "aWBvH2xd8Ae4",
        "colab_type": "code",
        "colab": {}
      },
      "source": [
        "n = len(iq)\n",
        "\n",
        "mu = iq.mean()\n",
        "\n",
        "sigma = iq.var(ddof=1)**0.5\n",
        "\n",
        "alpha = 0.05\n",
        "\n",
        "t = 2.262"
      ],
      "execution_count": 0,
      "outputs": []
    },
    {
      "cell_type": "code",
      "metadata": {
        "id": "DithDhIL8gn2",
        "colab_type": "code",
        "colab": {}
      },
      "source": [
        "delta = (t * sigma) / n**0.5"
      ],
      "execution_count": 0,
      "outputs": []
    },
    {
      "cell_type": "code",
      "metadata": {
        "id": "0kbPgJadBhs7",
        "colab_type": "code",
        "outputId": "de941238-59d2-41ee-ea25-1d6f9bfe7c00",
        "colab": {
          "base_uri": "https://localhost:8080/",
          "height": 35
        }
      },
      "source": [
        "L, R = (mu - delta).round(3), (mu + delta).round(3)\n",
        "\n",
        "L, R"
      ],
      "execution_count": 0,
      "outputs": [
        {
          "output_type": "execute_result",
          "data": {
            "text/plain": [
              "(110.557, 125.643)"
            ]
          },
          "metadata": {
            "tags": []
          },
          "execution_count": 75
        }
      ]
    },
    {
      "cell_type": "markdown",
      "metadata": {
        "id": "TqL8nrS1XMdT",
        "colab_type": "text"
      },
      "source": [
        "3) Известно, что рост футболистов в сборной распределен нормально\n",
        "с дисперсией генеральной совокупности, равной 25 кв.см. Объем выборки равен 27,\n",
        "среднее выборочное составляет 174.2. Найдите доверительный интервал для математического\n",
        "ожидания с надежностью 0.95."
      ]
    },
    {
      "cell_type": "code",
      "metadata": {
        "id": "HtzdzUMeXM85",
        "colab_type": "code",
        "colab": {}
      },
      "source": [
        "sigma = 25 ** 0.5\n",
        "\n",
        "n = 27\n",
        "\n",
        "mu = 174.2\n",
        "\n",
        "alpha = 0.05\n",
        "\n",
        "z = 1.96"
      ],
      "execution_count": 0,
      "outputs": []
    },
    {
      "cell_type": "code",
      "metadata": {
        "id": "4z-_HwSlDdhk",
        "colab_type": "code",
        "colab": {}
      },
      "source": [
        "L = mu - (sigma * z) / n**0.5\n",
        "\n",
        "R = mu + (sigma * z) / n**0.5"
      ],
      "execution_count": 0,
      "outputs": []
    },
    {
      "cell_type": "code",
      "metadata": {
        "id": "O30YO35HHou5",
        "colab_type": "code",
        "outputId": "1e989758-af1f-4558-c554-47b05224d2b0",
        "colab": {
          "base_uri": "https://localhost:8080/",
          "height": 35
        }
      },
      "source": [
        "round(L, 3), round(R, 3)"
      ],
      "execution_count": 0,
      "outputs": [
        {
          "output_type": "execute_result",
          "data": {
            "text/plain": [
              "(172.314, 176.086)"
            ]
          },
          "metadata": {
            "tags": []
          },
          "execution_count": 78
        }
      ]
    }
  ]
}