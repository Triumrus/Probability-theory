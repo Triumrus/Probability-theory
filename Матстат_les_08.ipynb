{
  "nbformat": 4,
  "nbformat_minor": 0,
  "metadata": {
    "colab": {
      "name": "Матстат les 08",
      "version": "0.3.2",
      "provenance": [],
      "collapsed_sections": [],
      "include_colab_link": true
    },
    "kernelspec": {
      "name": "python3",
      "display_name": "Python 3"
    }
  },
  "cells": [
    {
      "cell_type": "markdown",
      "metadata": {
        "id": "view-in-github",
        "colab_type": "text"
      },
      "source": [
        "<a href=\"https://colab.research.google.com/github/panzershracker/Probability-theory/blob/master/%D0%9C%D0%B0%D1%82%D1%81%D1%82%D0%B0%D1%82_les_08.ipynb\" target=\"_parent\"><img src=\"https://colab.research.google.com/assets/colab-badge.svg\" alt=\"Open In Colab\"/></a>"
      ]
    },
    {
      "cell_type": "code",
      "metadata": {
        "id": "EitUz2-XVthJ",
        "colab_type": "code",
        "colab": {}
      },
      "source": [
        "import numpy as np\n",
        "import pandas as pd\n",
        "import matplotlib.pyplot as plt"
      ],
      "execution_count": 0,
      "outputs": []
    },
    {
      "cell_type": "markdown",
      "metadata": {
        "id": "-IHt0KtoPihY",
        "colab_type": "text"
      },
      "source": [
        "Провести дисперсионный анализ для определения того, есть ли различия среднего роста среди взрослых футболистов, хоккеистов и штангистов. Даны значения роста в трех группах случайно выбранных спортсменов: Футболисты: 173, 175, 180, 178, 177, 185, 183, 182. Хоккеисты: 177, 179, 180, 188, 177, 172, 171, 184, 180. Штангисты: 172, 173, 169, 177, 166, 180, 178, 177, 172, 166, 170."
      ]
    },
    {
      "cell_type": "code",
      "metadata": {
        "id": "tqM_S4IsPja9",
        "colab_type": "code",
        "colab": {}
      },
      "source": [
        "cat = ['football', 'hockey', 'lifters']\n",
        "fb = np.array([173, 175, 180, 178, 177, 185, 183])\n",
        "hc = np.array([177, 179, 180, 188, 177, 172, 171, 184, 180])\n",
        "lif = np.array([172, 173, 169, 177, 166, 180, 178, 177, 172, 166, 170])"
      ],
      "execution_count": 0,
      "outputs": []
    },
    {
      "cell_type": "code",
      "metadata": {
        "id": "sl7_xoReuAbM",
        "colab_type": "code",
        "colab": {
          "base_uri": "https://localhost:8080/",
          "height": 34
        },
        "outputId": "80bf98b4-2ae6-44fc-a563-d73580cedb81"
      },
      "source": [
        "k = 3\n",
        "\n",
        "n1 = len(fb)\n",
        "n2 = len(hc)\n",
        "n3 = len(lif)\n",
        "\n",
        "n = n1 + n2 + n3\n",
        "\n",
        "n"
      ],
      "execution_count": 62,
      "outputs": [
        {
          "output_type": "execute_result",
          "data": {
            "text/plain": [
              "27"
            ]
          },
          "metadata": {
            "tags": []
          },
          "execution_count": 62
        }
      ]
    },
    {
      "cell_type": "code",
      "metadata": {
        "id": "6l8NT_MRuy1Z",
        "colab_type": "code",
        "colab": {
          "base_uri": "https://localhost:8080/",
          "height": 34
        },
        "outputId": "24098b1a-e376-4728-e4cf-e56f726cec6b"
      },
      "source": [
        "# средние значения выборок и среднее суммы выборок (Y)\n",
        "\n",
        "y1_m = fb.mean()\n",
        "y2_m = hc.mean()\n",
        "y3_m = lif.mean()\n",
        "\n",
        "Y_m = (sum(fb) + sum(hc) + sum(lif)) / n\n",
        "\n",
        "Y_m"
      ],
      "execution_count": 63,
      "outputs": [
        {
          "output_type": "execute_result",
          "data": {
            "text/plain": [
              "176.25925925925927"
            ]
          },
          "metadata": {
            "tags": []
          },
          "execution_count": 63
        }
      ]
    },
    {
      "cell_type": "code",
      "metadata": {
        "id": "4CElL2Nbwv0V",
        "colab_type": "code",
        "colab": {
          "base_uri": "https://localhost:8080/",
          "height": 34
        },
        "outputId": "7a6e14ac-4dfd-401a-cabf-8884e5f0fb5f"
      },
      "source": [
        "# Сумма квадр. отклонений от общего среднего\n",
        "\n",
        "S2 = sum((np.concatenate([fb, hc, lif]) - Y_m)**2)\n",
        "\n",
        "S2"
      ],
      "execution_count": 64,
      "outputs": [
        {
          "output_type": "execute_result",
          "data": {
            "text/plain": [
              "799.1851851851851"
            ]
          },
          "metadata": {
            "tags": []
          },
          "execution_count": 64
        }
      ]
    },
    {
      "cell_type": "code",
      "metadata": {
        "id": "WUi-38QVykpC",
        "colab_type": "code",
        "colab": {
          "base_uri": "https://localhost:8080/",
          "height": 34
        },
        "outputId": "590d2f5f-beff-4384-de2b-a6e54c3a13f9"
      },
      "source": [
        "# Сумма квадр. отклонений средних групповых значений от Y_m\n",
        "\n",
        "S2F = ((y1_m - Y_m)**2 * n1) + ((y2_m - Y_m)**2 * n2) + ((y3_m - Y_m)**2 * n3)\n",
        "\n",
        "S2F"
      ],
      "execution_count": 65,
      "outputs": [
        {
          "output_type": "execute_result",
          "data": {
            "text/plain": [
              "231.57479557479604"
            ]
          },
          "metadata": {
            "tags": []
          },
          "execution_count": 65
        }
      ]
    },
    {
      "cell_type": "code",
      "metadata": {
        "id": "lI89twtbyjIe",
        "colab_type": "code",
        "colab": {
          "base_uri": "https://localhost:8080/",
          "height": 34
        },
        "outputId": "5868fcc4-7e07-4560-c6f1-e014e400840b"
      },
      "source": [
        "# Остаточная сумма квадратов отклонений\n",
        "\n",
        "S2ost = sum((fb - y1_m)**2) + sum((hc - y2_m)**2) + sum((lif - y3_m)**2)\n",
        "\n",
        "S2ost"
      ],
      "execution_count": 66,
      "outputs": [
        {
          "output_type": "execute_result",
          "data": {
            "text/plain": [
              "567.6103896103896"
            ]
          },
          "metadata": {
            "tags": []
          },
          "execution_count": 66
        }
      ]
    },
    {
      "cell_type": "code",
      "metadata": {
        "id": "zpif5YfI4Wt3",
        "colab_type": "code",
        "colab": {
          "base_uri": "https://localhost:8080/",
          "height": 34
        },
        "outputId": "8419874b-e42f-4ba5-b8aa-2f9d760681c6"
      },
      "source": [
        "# Зачем высчитывать остаточную сумму квадратов отклонения по формуле, если можно просто вычислить ее через разность...\n",
        "\n",
        "S2 - S2F"
      ],
      "execution_count": 67,
      "outputs": [
        {
          "output_type": "execute_result",
          "data": {
            "text/plain": [
              "567.6103896103891"
            ]
          },
          "metadata": {
            "tags": []
          },
          "execution_count": 67
        }
      ]
    },
    {
      "cell_type": "code",
      "metadata": {
        "id": "b59C-MVv42Jq",
        "colab_type": "code",
        "colab": {
          "base_uri": "https://localhost:8080/",
          "height": 34
        },
        "outputId": "7a409e4d-b339-4fcd-9355-975f5eeff285"
      },
      "source": [
        "# Факторная дисперсия\n",
        "\n",
        "var2F = S2F / (k - 1)\n",
        "\n",
        "var2F"
      ],
      "execution_count": 68,
      "outputs": [
        {
          "output_type": "execute_result",
          "data": {
            "text/plain": [
              "115.78739778739802"
            ]
          },
          "metadata": {
            "tags": []
          },
          "execution_count": 68
        }
      ]
    },
    {
      "cell_type": "code",
      "metadata": {
        "id": "vqMqFGLy6V1J",
        "colab_type": "code",
        "colab": {
          "base_uri": "https://localhost:8080/",
          "height": 34
        },
        "outputId": "28d27aa3-615f-4789-dd57-ae8fcd03dfca"
      },
      "source": [
        "# Остаточная дисперсия\n",
        "\n",
        "var2ost = S2ost / (n - k)\n",
        "\n",
        "var2ost"
      ],
      "execution_count": 69,
      "outputs": [
        {
          "output_type": "execute_result",
          "data": {
            "text/plain": [
              "23.6504329004329"
            ]
          },
          "metadata": {
            "tags": []
          },
          "execution_count": 69
        }
      ]
    },
    {
      "cell_type": "code",
      "metadata": {
        "id": "_CFJ3ULd6mX1",
        "colab_type": "code",
        "colab": {
          "base_uri": "https://localhost:8080/",
          "height": 34
        },
        "outputId": "f0babbf1-00d4-4e2c-b7c8-086b339bfb93"
      },
      "source": [
        "# Наблюдаемое значение\n",
        "\n",
        "F = var2F / var2ost\n",
        "\n",
        "F"
      ],
      "execution_count": 70,
      "outputs": [
        {
          "output_type": "execute_result",
          "data": {
            "text/plain": [
              "4.8957834418869615"
            ]
          },
          "metadata": {
            "tags": []
          },
          "execution_count": 70
        }
      ]
    },
    {
      "cell_type": "code",
      "metadata": {
        "id": "4U_TobrX89-Z",
        "colab_type": "code",
        "colab": {
          "base_uri": "https://localhost:8080/",
          "height": 34
        },
        "outputId": "9621ff4d-56f9-4cbb-a3b1-1a6eacba7540"
      },
      "source": [
        "# Нахождение степеней свободы для таблицы\n",
        "\n",
        "v1, v2 = k - 1, n - k\n",
        "\n",
        "v1, v2"
      ],
      "execution_count": 71,
      "outputs": [
        {
          "output_type": "execute_result",
          "data": {
            "text/plain": [
              "(2, 24)"
            ]
          },
          "metadata": {
            "tags": []
          },
          "execution_count": 71
        }
      ]
    },
    {
      "cell_type": "code",
      "metadata": {
        "id": "auPAq_Y49Kvq",
        "colab_type": "code",
        "colab": {}
      },
      "source": [
        "# критическое значение согласно таблице Фишера-Снедекора при alpha=0.05\n",
        "\n",
        "F_crit = 3.40"
      ],
      "execution_count": 0,
      "outputs": []
    },
    {
      "cell_type": "code",
      "metadata": {
        "id": "U5gj3k2d9Xwf",
        "colab_type": "code",
        "colab": {
          "base_uri": "https://localhost:8080/",
          "height": 34
        },
        "outputId": "5e68f159-2318-4f07-d3e9-6df0d265f810"
      },
      "source": [
        "# Проверка гипотезы о том, что средний рост не имеет статистической значимости\n",
        "# Т.к. наблюдаемое значение больше критической отметки - оно имеет стат. значимость\n",
        "\n",
        "F > F_crit"
      ],
      "execution_count": 73,
      "outputs": [
        {
          "output_type": "execute_result",
          "data": {
            "text/plain": [
              "True"
            ]
          },
          "metadata": {
            "tags": []
          },
          "execution_count": 73
        }
      ]
    },
    {
      "cell_type": "markdown",
      "metadata": {
        "id": "gWijjqXM9om1",
        "colab_type": "text"
      },
      "source": [
        "! Судя по всему вопрос стоял следующий: \n",
        "Имеет ли вид спорта значение при нахождении среднего роста спортсмена из каждой подгруппы?\n",
        "\n",
        "Если вопрос заключался в этом, то, исходя из моего эксперимента - имеется статистически значимое различие, но, кажется, очень небольшое.\n",
        "\n",
        "Если вопрос был дан в верной формулировке, то достаточно было бы сравнить средние значения каждой группы для оценки разницы,\n",
        "и не использовать дисперсионный анализ."
      ]
    }
  ]
}