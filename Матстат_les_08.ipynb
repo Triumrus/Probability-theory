{
  "nbformat": 4,
  "nbformat_minor": 0,
  "metadata": {
    "colab": {
      "name": "Матстат les 08",
      "version": "0.3.2",
      "provenance": [],
      "collapsed_sections": [],
      "include_colab_link": true
    },
    "kernelspec": {
      "name": "python3",
      "display_name": "Python 3"
    }
  },
  "cells": [
    {
      "cell_type": "markdown",
      "metadata": {
        "id": "view-in-github",
        "colab_type": "text"
      },
      "source": [
        "<a href=\"https://colab.research.google.com/github/panzershracker/Probability-theory/blob/master/%D0%9C%D0%B0%D1%82%D1%81%D1%82%D0%B0%D1%82_les_08.ipynb\" target=\"_parent\"><img src=\"https://colab.research.google.com/assets/colab-badge.svg\" alt=\"Open In Colab\"/></a>"
      ]
    },
    {
      "cell_type": "code",
      "metadata": {
        "id": "EitUz2-XVthJ",
        "colab_type": "code",
        "colab": {}
      },
      "source": [
        "import numpy as np\n",
        "import pandas as pd\n",
        "import matplotlib.pyplot as plt"
      ],
      "execution_count": 0,
      "outputs": []
    },
    {
      "cell_type": "markdown",
      "metadata": {
        "id": "-IHt0KtoPihY",
        "colab_type": "text"
      },
      "source": [
        "Провести дисперсионный анализ для определения того, есть ли различия среднего роста среди взрослых футболистов, хоккеистов и штангистов. Даны значения роста в трех группах случайно выбранных спортсменов: Футболисты: 173, 175, 180, 178, 177, 185, 183, 182. Хоккеисты: 177, 179, 180, 188, 177, 172, 171, 184, 180. Штангисты: 172, 173, 169, 177, 166, 180, 178, 177, 172, 166, 170."
      ]
    },
    {
      "cell_type": "code",
      "metadata": {
        "id": "tqM_S4IsPja9",
        "colab_type": "code",
        "colab": {}
      },
      "source": [
        "cat = ['football', 'hockey', 'lifters']\n",
        "fb = np.array([173, 175, 180, 178, 177, 185, 183])\n",
        "hc = np.array([177, 179, 180, 188, 177, 172, 171, 184, 180])\n",
        "lif = np.array([172, 173, 169, 177, 166, 180, 178, 177, 172, 166, 170])"
      ],
      "execution_count": 0,
      "outputs": []
    },
    {
      "cell_type": "code",
      "metadata": {
        "id": "sl7_xoReuAbM",
        "colab_type": "code",
        "colab": {
          "base_uri": "https://localhost:8080/",
          "height": 34
        },
        "outputId": "4ae66f63-80c7-4cc0-bb71-8371adfefdf2"
      },
      "source": [
        "k = 3\n",
        "\n",
        "n1 = len(fb)\n",
        "n2 = len(hc)\n",
        "n3 = len(lif)\n",
        "\n",
        "n = n1 + n2 + n3\n",
        "\n",
        "n"
      ],
      "execution_count": 54,
      "outputs": [
        {
          "output_type": "execute_result",
          "data": {
            "text/plain": [
              "27"
            ]
          },
          "metadata": {
            "tags": []
          },
          "execution_count": 54
        }
      ]
    },
    {
      "cell_type": "code",
      "metadata": {
        "id": "6l8NT_MRuy1Z",
        "colab_type": "code",
        "colab": {
          "base_uri": "https://localhost:8080/",
          "height": 34
        },
        "outputId": "e6d22652-99b9-4c7d-b054-eaa5af5ee6d1"
      },
      "source": [
        "y1_m = fb.mean()\n",
        "y2_m = hc.mean()\n",
        "y3_m = lif.mean()\n",
        "\n",
        "Y_m = (sum(fb) + sum(hc) + sum(lif)) / n\n",
        "\n",
        "Y_m"
      ],
      "execution_count": 33,
      "outputs": [
        {
          "output_type": "execute_result",
          "data": {
            "text/plain": [
              "176.25925925925927"
            ]
          },
          "metadata": {
            "tags": []
          },
          "execution_count": 33
        }
      ]
    },
    {
      "cell_type": "code",
      "metadata": {
        "id": "4CElL2Nbwv0V",
        "colab_type": "code",
        "colab": {
          "base_uri": "https://localhost:8080/",
          "height": 34
        },
        "outputId": "dc449227-05d9-4699-c3ec-20fa2b6de7c3"
      },
      "source": [
        "S2 = sum((np.concatenate([fb, hc, lif]) - Y_m)**2)\n",
        "\n",
        "S2"
      ],
      "execution_count": 42,
      "outputs": [
        {
          "output_type": "execute_result",
          "data": {
            "text/plain": [
              "799.1851851851851"
            ]
          },
          "metadata": {
            "tags": []
          },
          "execution_count": 42
        }
      ]
    },
    {
      "cell_type": "code",
      "metadata": {
        "id": "WUi-38QVykpC",
        "colab_type": "code",
        "colab": {
          "base_uri": "https://localhost:8080/",
          "height": 34
        },
        "outputId": "90838274-6cde-4c6f-d2b0-8c79a1960544"
      },
      "source": [
        "S2F = ((y1_m - Y_m)**2 * n1) + ((y2_m - Y_m)**2 * n2) + ((y3_m - Y_m)**2 * n3)\n",
        "\n",
        "S2F"
      ],
      "execution_count": 43,
      "outputs": [
        {
          "output_type": "execute_result",
          "data": {
            "text/plain": [
              "231.57479557479604"
            ]
          },
          "metadata": {
            "tags": []
          },
          "execution_count": 43
        }
      ]
    },
    {
      "cell_type": "code",
      "metadata": {
        "id": "lI89twtbyjIe",
        "colab_type": "code",
        "colab": {
          "base_uri": "https://localhost:8080/",
          "height": 34
        },
        "outputId": "c0f4c87c-6f66-45cc-bcd8-22595bf19224"
      },
      "source": [
        "S2ost = sum((fb - y1_m)**2) + sum((hc - y2_m)**2) + sum((lif - y3_m)**2)\n",
        "\n",
        "S2ost"
      ],
      "execution_count": 47,
      "outputs": [
        {
          "output_type": "execute_result",
          "data": {
            "text/plain": [
              "567.6103896103896"
            ]
          },
          "metadata": {
            "tags": []
          },
          "execution_count": 47
        }
      ]
    },
    {
      "cell_type": "code",
      "metadata": {
        "id": "zpif5YfI4Wt3",
        "colab_type": "code",
        "colab": {
          "base_uri": "https://localhost:8080/",
          "height": 34
        },
        "outputId": "d55306a3-95c8-46f9-a89f-945d37c5e4a7"
      },
      "source": [
        "# Зачем высчитывать остаточную сумму квадратов отклонения по формуле, если можно просто вычислить ее через разность...\n",
        "\n",
        "S2 - S2F"
      ],
      "execution_count": 48,
      "outputs": [
        {
          "output_type": "execute_result",
          "data": {
            "text/plain": [
              "567.6103896103891"
            ]
          },
          "metadata": {
            "tags": []
          },
          "execution_count": 48
        }
      ]
    },
    {
      "cell_type": "code",
      "metadata": {
        "id": "b59C-MVv42Jq",
        "colab_type": "code",
        "colab": {
          "base_uri": "https://localhost:8080/",
          "height": 34
        },
        "outputId": "c4dc9835-024d-4497-b08c-e16048770930"
      },
      "source": [
        "var2F = S2F / (k - 1)\n",
        "\n",
        "var2F"
      ],
      "execution_count": 49,
      "outputs": [
        {
          "output_type": "execute_result",
          "data": {
            "text/plain": [
              "115.78739778739802"
            ]
          },
          "metadata": {
            "tags": []
          },
          "execution_count": 49
        }
      ]
    },
    {
      "cell_type": "code",
      "metadata": {
        "id": "vqMqFGLy6V1J",
        "colab_type": "code",
        "colab": {
          "base_uri": "https://localhost:8080/",
          "height": 34
        },
        "outputId": "559c500e-ed66-4a7a-ed8c-98deafe452b3"
      },
      "source": [
        "var2ost = S2ost / (n - k)\n",
        "\n",
        "var2ost"
      ],
      "execution_count": 51,
      "outputs": [
        {
          "output_type": "execute_result",
          "data": {
            "text/plain": [
              "23.6504329004329"
            ]
          },
          "metadata": {
            "tags": []
          },
          "execution_count": 51
        }
      ]
    },
    {
      "cell_type": "code",
      "metadata": {
        "id": "_CFJ3ULd6mX1",
        "colab_type": "code",
        "colab": {
          "base_uri": "https://localhost:8080/",
          "height": 34
        },
        "outputId": "ef5dadb0-d80a-450d-add5-1c7c039d2154"
      },
      "source": [
        "F = var2F / var2ost\n",
        "\n",
        "F"
      ],
      "execution_count": 52,
      "outputs": [
        {
          "output_type": "execute_result",
          "data": {
            "text/plain": [
              "4.8957834418869615"
            ]
          },
          "metadata": {
            "tags": []
          },
          "execution_count": 52
        }
      ]
    },
    {
      "cell_type": "code",
      "metadata": {
        "id": "4U_TobrX89-Z",
        "colab_type": "code",
        "colab": {
          "base_uri": "https://localhost:8080/",
          "height": 34
        },
        "outputId": "ef2e9631-3dc4-4f16-c983-9b0bd73abace"
      },
      "source": [
        "v1, v2 = k - 1, n - k\n",
        "\n",
        "v1, v2"
      ],
      "execution_count": 59,
      "outputs": [
        {
          "output_type": "execute_result",
          "data": {
            "text/plain": [
              "(2, 24)"
            ]
          },
          "metadata": {
            "tags": []
          },
          "execution_count": 59
        }
      ]
    },
    {
      "cell_type": "code",
      "metadata": {
        "id": "auPAq_Y49Kvq",
        "colab_type": "code",
        "colab": {}
      },
      "source": [
        "F_crit = 3.40"
      ],
      "execution_count": 0,
      "outputs": []
    },
    {
      "cell_type": "code",
      "metadata": {
        "id": "U5gj3k2d9Xwf",
        "colab_type": "code",
        "colab": {
          "base_uri": "https://localhost:8080/",
          "height": 34
        },
        "outputId": "8c3f6735-3548-48d3-ec6c-a79c606ab934"
      },
      "source": [
        "F > F_crit"
      ],
      "execution_count": 57,
      "outputs": [
        {
          "output_type": "execute_result",
          "data": {
            "text/plain": [
              "True"
            ]
          },
          "metadata": {
            "tags": []
          },
          "execution_count": 57
        }
      ]
    },
    {
      "cell_type": "markdown",
      "metadata": {
        "id": "gWijjqXM9om1",
        "colab_type": "text"
      },
      "source": [
        "! Судя по всему вопрос стоял следующий: \n",
        "Имеет ли вид спорта значение нахождении среднего роста спортсмена из каждой подгруппы?\n",
        "\n",
        "Если вопрос заключался в этом, то, исходя из моего эксперимента - имеется статистически значимое различие, но, кажется, очень небольшое.\n",
        "\n",
        "Если вопрос был дан в верной формулировке, то достаточно было бы сравнить средние значения каждой группы для оценки разницы,\n",
        "и не использовать дисперсионный анализ."
      ]
    }
  ]
}