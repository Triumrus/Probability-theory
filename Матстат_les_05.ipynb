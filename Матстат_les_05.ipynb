{
  "nbformat": 4,
  "nbformat_minor": 0,
  "metadata": {
    "colab": {
      "name": "Матстат les 05",
      "version": "0.3.2",
      "provenance": [],
      "collapsed_sections": [],
      "include_colab_link": true
    },
    "kernelspec": {
      "name": "python3",
      "display_name": "Python 3"
    }
  },
  "cells": [
    {
      "cell_type": "markdown",
      "metadata": {
        "id": "view-in-github",
        "colab_type": "text"
      },
      "source": [
        "<a href=\"https://colab.research.google.com/github/panzershracker/Probability-theory/blob/master/%D0%9C%D0%B0%D1%82%D1%81%D1%82%D0%B0%D1%82_les_05.ipynb\" target=\"_parent\"><img src=\"https://colab.research.google.com/assets/colab-badge.svg\" alt=\"Open In Colab\"/></a>"
      ]
    },
    {
      "cell_type": "code",
      "metadata": {
        "id": "_Vss5NniJIWo",
        "colab_type": "code",
        "colab": {}
      },
      "source": [
        "import numpy as np"
      ],
      "execution_count": 0,
      "outputs": []
    },
    {
      "cell_type": "markdown",
      "metadata": {
        "id": "fMmi_zTLFhBd",
        "colab_type": "text"
      },
      "source": [
        "**Внимательно будьте со 2 и 4 заданиями.Мы на вебинаре рассматривали случаи с известной сигмой.Когда сигма генеральной совокупности нам неизвестна, делаем все то же самое,только берем t-критерий (критерий Стьюдента), а сигму считаем из выборки.В материалах есть таблица для критерия Стьюдента. График плотности распределения Стьюдента симметричный**\n"
      ]
    },
    {
      "cell_type": "markdown",
      "metadata": {
        "id": "UG5M2RNqGPDM",
        "colab_type": "text"
      },
      "source": [
        "1. Известно, что генеральная совокупность распределена нормально\n",
        "со средним квадратическим отклонением, равным 16.\n",
        "Найти доверительный интервал для оценки математического ожидания a с надежностью 0.95,\n",
        "если выборочная средняя M = 80, а объем выборки n = 256."
      ]
    },
    {
      "cell_type": "code",
      "metadata": {
        "id": "PH6T-qN2FY-F",
        "colab_type": "code",
        "outputId": "194353c8-0eca-4a2a-cf63-446fbe11b2bf",
        "colab": {
          "base_uri": "https://localhost:8080/",
          "height": 35
        }
      },
      "source": [
        "M = 80\n",
        "\n",
        "n = 256\n",
        "\n",
        "sigma = 16\n",
        "\n",
        "se = sigma/np.sqrt(n) # Станд ошибка среднего\n",
        "\n",
        "# надежность 95% находится в диапазоне +- 1.96sigma =>\n",
        "\n",
        "L = M - 1.96 * se\n",
        "\n",
        "R = M + 1.96 * se\n",
        "\n",
        "L,R"
      ],
      "execution_count": 28,
      "outputs": [
        {
          "output_type": "execute_result",
          "data": {
            "text/plain": [
              "(78.04, 81.96)"
            ]
          },
          "metadata": {
            "tags": []
          },
          "execution_count": 28
        }
      ]
    },
    {
      "cell_type": "markdown",
      "metadata": {
        "id": "f1MGrbgYFhkX",
        "colab_type": "text"
      },
      "source": [
        "2. В результате 10 независимых измерений некоторой величины X, выполненных с одинаковой точностью,\n",
        "получены опытные данные: 6.9, 6.1, 6.2, 6.8, 7.5, 6.3, 6.4, 6.9, 6.7, 6.1\n",
        "Предполагая, что результаты измерений подчинены нормальному закону распределения вероятностей,\n",
        "оценить истинное значение величины X при помощи доверительного интервала, покрывающего это\n",
        "значение с доверительной вероятностью 0,95."
      ]
    },
    {
      "cell_type": "code",
      "metadata": {
        "id": "wVG1012kFh8I",
        "colab_type": "code",
        "colab": {}
      },
      "source": [
        "x = np.array([6.9, 6.1, 6.2, 6.8, 7.5, 6.3, 6.4, 6.9, 6.7, 6.1])"
      ],
      "execution_count": 0,
      "outputs": []
    },
    {
      "cell_type": "code",
      "metadata": {
        "id": "S3aDTfPss2OF",
        "colab_type": "code",
        "colab": {}
      },
      "source": [
        "n = len(x)\n",
        "\n",
        "mu = x.mean()\n",
        "\n",
        "var = x.var(ddof=1)\n",
        "\n",
        "sigma = np.sqrt(var)\n",
        "\n",
        "t = 2.26"
      ],
      "execution_count": 0,
      "outputs": []
    },
    {
      "cell_type": "code",
      "metadata": {
        "id": "g3qYOrNj4DrG",
        "colab_type": "code",
        "colab": {}
      },
      "source": [
        "L = round((mu - (t * sigma) / n**0.5), 3)\n",
        "\n",
        "R = round((mu + (t * sigma) / n**0.5), 3)"
      ],
      "execution_count": 0,
      "outputs": []
    },
    {
      "cell_type": "code",
      "metadata": {
        "id": "CXeHuPa747RC",
        "colab_type": "code",
        "colab": {
          "base_uri": "https://localhost:8080/",
          "height": 35
        },
        "outputId": "f5e32270-77ff-4e1a-c109-21596ad90527"
      },
      "source": [
        "L, R"
      ],
      "execution_count": 26,
      "outputs": [
        {
          "output_type": "execute_result",
          "data": {
            "text/plain": [
              "(6.268, 6.912)"
            ]
          },
          "metadata": {
            "tags": []
          },
          "execution_count": 26
        }
      ]
    },
    {
      "cell_type": "markdown",
      "metadata": {
        "id": "d4KmS0RLFiPX",
        "colab_type": "text"
      },
      "source": [
        "3. Утверждается, что шарики для подшипников, изготовленные автоматическим станком, имеют средний диаметр 17 мм.\n",
        "Используя односторонний критерий с α=0,05, проверить эту гипотезу, если в выборке из n=100 шариков средний диаметр\n",
        "оказался равным 17.5 мм, а дисперсия известна и равна 4 мм."
      ]
    },
    {
      "cell_type": "code",
      "metadata": {
        "id": "yyjRI2hRFifd",
        "colab_type": "code",
        "colab": {}
      },
      "source": [
        "mu_0 = 17\n",
        "\n",
        "n = 100\n",
        "\n",
        "alpha = 0.05\n",
        "\n",
        "mu = 17.5\n",
        "\n",
        "sigma = 4**0.5"
      ],
      "execution_count": 0,
      "outputs": []
    },
    {
      "cell_type": "markdown",
      "metadata": {
        "id": "YiHA5XXYUbvz",
        "colab_type": "text"
      },
      "source": [
        "**Я смотрел видео, и не понимаю, почему значение из таблицы лапласа берется для 0.9!!! Если альфа 0.05, то значения нужно смотреть для 95, разьве нет?!**\n",
        "\n"
      ]
    },
    {
      "cell_type": "code",
      "metadata": {
        "id": "jn7oESpIPv3W",
        "colab_type": "code",
        "colab": {}
      },
      "source": [
        ""
      ],
      "execution_count": 0,
      "outputs": []
    },
    {
      "cell_type": "markdown",
      "metadata": {
        "id": "ohaCfsvSFi03",
        "colab_type": "text"
      },
      "source": [
        "4. Продавец утверждает, что средний вес пачки печенья составляет 200 г.\n",
        "Из партии извлечена выборка из 10 пачек. Вес каждой пачки составляет:\n",
        "202, 203, 199, 197, 195, 201, 200, 204, 194, 190.\n",
        "Известно, что их веса распределены нормально.\n",
        "Верно ли утверждение продавца, если учитывать, что доверительная вероятность равна 99%?"
      ]
    },
    {
      "cell_type": "code",
      "metadata": {
        "id": "2A2t3A0VFjOY",
        "colab_type": "code",
        "colab": {}
      },
      "source": [
        "x = np.array([202, 203, 199, 197, 195, 201, 200, 204, 194, 190])"
      ],
      "execution_count": 0,
      "outputs": []
    },
    {
      "cell_type": "code",
      "metadata": {
        "id": "Y2_2DxA-733R",
        "colab_type": "code",
        "colab": {}
      },
      "source": [
        "mu_0 = 200\n",
        "\n",
        "mu = x.mean()\n",
        "\n",
        "n = len(x)\n",
        "\n",
        "var = np.var(x, ddof=1)\n",
        "\n",
        "sigma = var**0.5\n",
        "\n",
        "t = 3.25 # t-criterion for 99% prob.\n",
        "\n",
        "L = mu - (t * sigma) / n**0.5"
      ],
      "execution_count": 0,
      "outputs": []
    },
    {
      "cell_type": "code",
      "metadata": {
        "id": "TvE6N5mD9E3F",
        "colab_type": "code",
        "colab": {}
      },
      "source": [
        "L = round((mu - (t * sigma) / n**0.5), 3)\n",
        "\n",
        "R = round((mu + (t * sigma) / n**0.5), 3)"
      ],
      "execution_count": 0,
      "outputs": []
    },
    {
      "cell_type": "code",
      "metadata": {
        "id": "-G-_SL0g9L24",
        "colab_type": "code",
        "colab": {
          "base_uri": "https://localhost:8080/",
          "height": 35
        },
        "outputId": "86edf084-126e-44fc-8c2d-7bfa836818c9"
      },
      "source": [
        "Z = (mu - mu_0) / (sigma/n**0.5)"
      ],
      "execution_count": 54,
      "outputs": [
        {
          "output_type": "execute_result",
          "data": {
            "text/plain": [
              "-1.0651074037450896"
            ]
          },
          "metadata": {
            "tags": []
          },
          "execution_count": 54
        }
      ]
    },
    {
      "cell_type": "code",
      "metadata": {
        "id": "wfyLFEsLOW5K",
        "colab_type": "code",
        "colab": {
          "base_uri": "https://localhost:8080/",
          "height": 35
        },
        "outputId": "c26c2798-49c3-4be5-bf05-b07537707044"
      },
      "source": [
        "-t < Z < t"
      ],
      "execution_count": 55,
      "outputs": [
        {
          "output_type": "execute_result",
          "data": {
            "text/plain": [
              "True"
            ]
          },
          "metadata": {
            "tags": []
          },
          "execution_count": 55
        }
      ]
    },
    {
      "cell_type": "markdown",
      "metadata": {
        "id": "5AjYICxvOe5l",
        "colab_type": "text"
      },
      "source": [
        "**Продавец не обманул! Принимаем нулевую гипотезу, что средний вес пачки 200 гр**"
      ]
    }
  ]
}