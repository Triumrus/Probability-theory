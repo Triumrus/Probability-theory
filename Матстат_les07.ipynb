{
  "nbformat": 4,
  "nbformat_minor": 0,
  "metadata": {
    "colab": {
      "name": "Матстат les07",
      "version": "0.3.2",
      "provenance": [],
      "collapsed_sections": [],
      "include_colab_link": true
    },
    "kernelspec": {
      "name": "python3",
      "display_name": "Python 3"
    }
  },
  "cells": [
    {
      "cell_type": "markdown",
      "metadata": {
        "id": "view-in-github",
        "colab_type": "text"
      },
      "source": [
        "<a href=\"https://colab.research.google.com/github/panzershracker/Probability-theory/blob/master/%D0%9C%D0%B0%D1%82%D1%81%D1%82%D0%B0%D1%82_les07.ipynb\" target=\"_parent\"><img src=\"https://colab.research.google.com/assets/colab-badge.svg\" alt=\"Open In Colab\"/></a>"
      ]
    },
    {
      "cell_type": "code",
      "metadata": {
        "id": "j1QnFU1r0Tjx",
        "colab_type": "code",
        "colab": {}
      },
      "source": [
        "import numpy as np\n",
        "import pandas as pd\n",
        "import matplotlib.pyplot as plt\n",
        "\n",
        "%matplotlib inline"
      ],
      "execution_count": 0,
      "outputs": []
    },
    {
      "cell_type": "markdown",
      "metadata": {
        "id": "Be2Cuurz3XhK",
        "colab_type": "text"
      },
      "source": [
        "**Даны значения величины заработной платы заемщиков банка (zp) и значения их поведенческого кредитного скоринга (ks):**\n",
        "\n",
        "zp = [35, 45, 190, 200, 40, 70, 54, 150, 120, 110], \n",
        "\n",
        "ks = [401, 574, 874, 919, 459, 739, 653, 902, 746, 832].\n",
        "\n",
        "Используя математические операции, посчитать коэффициенты линейной регрессии, приняв за X заработную плату (то есть, zp - признак), а за y - значения скорингового балла (то есть, ks - целевая переменная). Произвести расчет как с использованием intercept, так и без."
      ]
    },
    {
      "cell_type": "markdown",
      "metadata": {
        "id": "2H7mcwuyfGFU",
        "colab_type": "text"
      },
      "source": [
        "Расчет коэф. регрессии с интерсептом по формуле:"
      ]
    },
    {
      "cell_type": "code",
      "metadata": {
        "id": "x_L6bzVx3Zi3",
        "colab_type": "code",
        "colab": {}
      },
      "source": [
        "X = np.array([35, 45, 190, 200, 40, 70, 54, 150, 120, 110])\n",
        "\n",
        "y = np.array([401, 574, 874, 919, 459, 739, 653, 902, 746, 832])\n",
        "\n",
        "n = len(X)"
      ],
      "execution_count": 0,
      "outputs": []
    },
    {
      "cell_type": "code",
      "metadata": {
        "id": "YkW-dVV3RoLG",
        "colab_type": "code",
        "colab": {
          "base_uri": "https://localhost:8080/",
          "height": 35
        },
        "outputId": "949b9206-93aa-4ab2-f092-c678b64efab7"
      },
      "source": [
        "b = ((n * sum(X * y)) - sum(X) * sum(y)) / (n * sum(X**2) - (sum(X)**2))\n",
        "\n",
        "a = y.mean() - b * X.mean()\n",
        "\n",
        "y_hat = a + b * X\n",
        "\n",
        "b, a"
      ],
      "execution_count": 4,
      "outputs": [
        {
          "output_type": "execute_result",
          "data": {
            "text/plain": [
              "(2.6205388824027653, 444.17735732435955)"
            ]
          },
          "metadata": {
            "tags": []
          },
          "execution_count": 4
        }
      ]
    },
    {
      "cell_type": "code",
      "metadata": {
        "id": "jIyS37Wg4CiF",
        "colab_type": "code",
        "outputId": "289b1db0-c3c1-43ea-93dd-a4f09d40ade4",
        "colab": {
          "base_uri": "https://localhost:8080/",
          "height": 269
        }
      },
      "source": [
        "plt.scatter(X, y)\n",
        "\n",
        "# lin. reg. plot with intercept\n",
        "\n",
        "plt.plot(X, y_hat, c='r', alpha=0.4)\n",
        "\n",
        "plt.grid()\n",
        "plt.show()"
      ],
      "execution_count": 5,
      "outputs": [
        {
          "output_type": "display_data",
          "data": {
            "image/png": "[encoded data removed]",
            "text/plain": [
              "<Figure size 432x288 with 1 Axes>"
            ]
          },
          "metadata": {
            "tags": []
          }
        }
      ]
    },
    {
      "cell_type": "markdown",
      "metadata": {
        "id": "zlt_btKffQsi",
        "colab_type": "text"
      },
      "source": [
        "Расчет коэф. матричным поиском без интерсепта:"
      ]
    },
    {
      "cell_type": "code",
      "metadata": {
        "id": "HIBrtM6_mdYF",
        "colab_type": "code",
        "outputId": "a780d4a9-cb87-4404-b0bc-734e5ea4d2d1",
        "colab": {
          "base_uri": "https://localhost:8080/",
          "height": 35
        }
      },
      "source": [
        "X2 = X.reshape(10, 1)\n",
        "y2 = y.reshape(10, 1)\n",
        "\n",
        "X2.shape, y2.shape"
      ],
      "execution_count": 6,
      "outputs": [
        {
          "output_type": "execute_result",
          "data": {
            "text/plain": [
              "((10, 1), (10, 1))"
            ]
          },
          "metadata": {
            "tags": []
          },
          "execution_count": 6
        }
      ]
    },
    {
      "cell_type": "code",
      "metadata": {
        "id": "pIH_B8Y-XdHM",
        "colab_type": "code",
        "outputId": "02c8ed33-d151-47a1-febc-7ea5979156f5",
        "colab": {
          "base_uri": "https://localhost:8080/",
          "height": 35
        }
      },
      "source": [
        "B = np.dot(np.linalg.inv(np.dot(X2.T, X2)), X2.T @ y2)\n",
        "\n",
        "B"
      ],
      "execution_count": 7,
      "outputs": [
        {
          "output_type": "execute_result",
          "data": {
            "text/plain": [
              "array([[5.88982042]])"
            ]
          },
          "metadata": {
            "tags": []
          },
          "execution_count": 7
        }
      ]
    },
    {
      "cell_type": "code",
      "metadata": {
        "id": "gFuO9SvNrnCW",
        "colab_type": "code",
        "colab": {}
      },
      "source": [
        "Y = (B * X).reshape(10, 1)"
      ],
      "execution_count": 0,
      "outputs": []
    },
    {
      "cell_type": "code",
      "metadata": {
        "id": "2bztr82GrYZp",
        "colab_type": "code",
        "outputId": "a584b94b-45ef-48b7-96c0-83170ecbcff0",
        "colab": {
          "base_uri": "https://localhost:8080/",
          "height": 269
        }
      },
      "source": [
        "plt.scatter(X, y)\n",
        "\n",
        "# lin. reg. plot without intercept\n",
        "\n",
        "plt.plot(X2, Y, c='r', alpha=0.4)\n",
        "\n",
        "plt.grid()\n",
        "plt.show()"
      ],
      "execution_count": 9,
      "outputs": [
        {
          "output_type": "display_data",
          "data": {
            "image/png": "[encoded data removed]",
            "text/plain": [
              "<Figure size 432x288 with 1 Axes>"
            ]
          },
          "metadata": {
            "tags": []
          }
        }
      ]
    },
    {
      "cell_type": "markdown",
      "metadata": {
        "id": "S-KEqw8RfhK2",
        "colab_type": "text"
      },
      "source": [
        "Расчет коэф. матричным поиском с интерсептом:"
      ]
    },
    {
      "cell_type": "code",
      "metadata": {
        "id": "kdqTQhg3fkio",
        "colab_type": "code",
        "colab": {
          "base_uri": "https://localhost:8080/",
          "height": 35
        },
        "outputId": "71757b45-9263-490f-9d84-574cb254e8f9"
      },
      "source": [
        "X3 = X.reshape(10, 1)\n",
        "y3 = y.reshape(10, 1)\n",
        "\n",
        "X3 = np.hstack([np.ones((10,1)), X3])\n",
        "\n",
        "X3.shape, y3.shape"
      ],
      "execution_count": 28,
      "outputs": [
        {
          "output_type": "execute_result",
          "data": {
            "text/plain": [
              "((10, 2), (10, 1))"
            ]
          },
          "metadata": {
            "tags": []
          },
          "execution_count": 28
        }
      ]
    },
    {
      "cell_type": "code",
      "metadata": {
        "id": "GRtAkhhwgUZg",
        "colab_type": "code",
        "colab": {}
      },
      "source": [
        "y_pred = np.dot(np.linalg.inv(np.dot(X3.T, X3)), X3.T @ y3)"
      ],
      "execution_count": 0,
      "outputs": []
    },
    {
      "cell_type": "code",
      "metadata": {
        "id": "1sxB_fI0guc0",
        "colab_type": "code",
        "colab": {
          "base_uri": "https://localhost:8080/",
          "height": 35
        },
        "outputId": "f08fa77a-23e1-432b-b640-a0cc797c6fda"
      },
      "source": [
        "B0 = y_pred[0,0]\n",
        "B1 = y_pred[1,0]\n",
        "\n",
        "B0, B1"
      ],
      "execution_count": 41,
      "outputs": [
        {
          "output_type": "execute_result",
          "data": {
            "text/plain": [
              "(444.1773573243595, 2.620538882402766)"
            ]
          },
          "metadata": {
            "tags": []
          },
          "execution_count": 41
        }
      ]
    },
    {
      "cell_type": "code",
      "metadata": {
        "id": "hmODdg1oggdk",
        "colab_type": "code",
        "colab": {
          "base_uri": "https://localhost:8080/",
          "height": 269
        },
        "outputId": "403d50b9-bc9e-48e3-fd23-0d8d25c940d7"
      },
      "source": [
        "plt.scatter(x, y)\n",
        "\n",
        "# Plot with intercept. Coefficients B0, B1 matrix searched\n",
        "plt.plot(X3, B0 + B1 * X3, alpha=0.4)\n",
        "\n",
        "plt.grid(alpha=0.4)\n",
        "plt.show()"
      ],
      "execution_count": 46,
      "outputs": [
        {
          "output_type": "display_data",
          "data": {
            "image/png": "[encoded data removed]",
            "text/plain": [
              "<Figure size 432x288 with 1 Axes>"
            ]
          },
          "metadata": {
            "tags": []
          }
        }
      ]
    },
    {
      "cell_type": "markdown",
      "metadata": {
        "id": "vT23PFra3YNh",
        "colab_type": "text"
      },
      "source": [
        "**Посчитать коэффициент линейной регрессии при заработной плате (zp), используя градиентный спуск (без intercept).**"
      ]
    },
    {
      "cell_type": "code",
      "metadata": {
        "id": "I7a5MNRK3Yh6",
        "colab_type": "code",
        "colab": {}
      },
      "source": [
        "x = np.array([35, 45, 190, 200, 40, 70, 54, 150, 120, 110])\n",
        "\n",
        "y = np.array([401, 574, 874, 919, 459, 739, 653, 902, 746, 832])\n",
        "\n",
        "n = len(X)"
      ],
      "execution_count": 0,
      "outputs": []
    },
    {
      "cell_type": "code",
      "metadata": {
        "id": "-PWfxIJA8qEf",
        "colab_type": "code",
        "colab": {}
      },
      "source": [
        "def mse(B1, x=x, y=y, n=10):\n",
        "  \n",
        "  return np.sum((B * x - y)**2) / n"
      ],
      "execution_count": 0,
      "outputs": []
    },
    {
      "cell_type": "code",
      "metadata": {
        "id": "lsZUsh8Z9al8",
        "colab_type": "code",
        "colab": {}
      },
      "source": [
        "n = 10\n",
        "\n",
        "alpha = 1e-6"
      ],
      "execution_count": 0,
      "outputs": []
    },
    {
      "cell_type": "code",
      "metadata": {
        "id": "iYOrJjZkBTdp",
        "colab_type": "code",
        "outputId": "46dc31e9-6767-4647-ae9a-93a12015c503",
        "colab": {
          "base_uri": "https://localhost:8080/",
          "height": 191
        }
      },
      "source": [
        "B1 = 0.1\n",
        "\n",
        "for i in range(1000):\n",
        "  B1 -= alpha * (2/n) * np.sum((B1 * x - y) * x)\n",
        "  \n",
        "  if i % 100 == 0:\n",
        "    print(f'Iteration = {i}, B1 = {B1}, mse = {mse(B1)}')"
      ],
      "execution_count": 13,
      "outputs": [
        {
          "output_type": "stream",
          "text": [
            "Iteration = 0, B1 = 0.25952808, mse = 56516.8584157194\n",
            "Iteration = 100, B1 = 5.54537842245223, mse = 56516.8584157194\n",
            "Iteration = 200, B1 = 5.868748638669329, mse = 56516.8584157194\n",
            "Iteration = 300, B1 = 5.888531320728348, mse = 56516.8584157194\n",
            "Iteration = 400, B1 = 5.8897415574471985, mse = 56516.8584157194\n",
            "Iteration = 500, B1 = 5.889815595583751, mse = 56516.8584157194\n",
            "Iteration = 600, B1 = 5.889820124983314, mse = 56516.8584157194\n",
            "Iteration = 700, B1 = 5.889820402076462, mse = 56516.8584157194\n",
            "Iteration = 800, B1 = 5.88982041902807, mse = 56516.8584157194\n",
            "Iteration = 900, B1 = 5.889820420065112, mse = 56516.8584157194\n"
          ],
          "name": "stdout"
        }
      ]
    },
    {
      "cell_type": "code",
      "metadata": {
        "id": "ifPrFnfq9UU4",
        "colab_type": "code",
        "outputId": "26c9b372-4844-4cde-c8d8-a789649aebd4",
        "colab": {
          "base_uri": "https://localhost:8080/",
          "height": 269
        }
      },
      "source": [
        "plt.scatter(x, y)\n",
        "\n",
        "# gradient descent plot without intercept\n",
        "\n",
        "plt.plot(x, B1*X2, c='r', alpha=0.4)\n",
        "\n",
        "plt.grid()\n",
        "plt.show()"
      ],
      "execution_count": 14,
      "outputs": [
        {
          "output_type": "display_data",
          "data": {
            "image/png": "[encoded data removed]",
            "text/plain": [
              "<Figure size 432x288 with 1 Axes>"
            ]
          },
          "metadata": {
            "tags": []
          }
        }
      ]
    },
    {
      "cell_type": "markdown",
      "metadata": {
        "id": "Q54chUlH91C4",
        "colab_type": "text"
      },
      "source": [
        "! Коэфициент B1 при градиентном спуске такой же как и при матричном поиске. Есдинственное - я не понял что я не так сделал с MSE - функция, вроде, верная, но показатель ошибки при новых итерациях не меняется, к тому же, он довольно высокий."
      ]
    },
    {
      "cell_type": "markdown",
      "metadata": {
        "id": "zl4epCXk3Okl",
        "colab_type": "text"
      },
      "source": [
        "**В каких случаях для вычисления доверительных интервалов и проверки статистических гипотез используется таблица значений функции Лапласа, а в каких - таблица критических точек распределения Стьюдента?**"
      ]
    },
    {
      "cell_type": "markdown",
      "metadata": {
        "id": "EN8eSJ_gtD5g",
        "colab_type": "text"
      },
      "source": [
        "Таблица Лапласа (Z критерий) используется тогда, когда известна дисперсия или среднеквадратичное отклонение ген совокупности,\n",
        "в иных случаях используется таблица Стьюдента(t критерий)"
      ]
    },
    {
      "cell_type": "markdown",
      "metadata": {
        "id": "FCwG3ilL0bHf",
        "colab_type": "text"
      },
      "source": [
        "**Произвести вычисления как в пункте 2, но с вычислением intercept. Учесть, что изменение коэффициентов должно производиться на каждом шаге одновременно (то есть изменение одного коэффициента не должно влиять на изменение другого во время одной итерации).**"
      ]
    },
    {
      "cell_type": "code",
      "metadata": {
        "id": "Bfj3f7H11z5d",
        "colab_type": "code",
        "colab": {}
      },
      "source": [
        "def mse2(B0, B1, x=x, y=y, n=10):\n",
        "  \n",
        "  return np.sum((B0 + B1 * x - y)**2) / n"
      ],
      "execution_count": 0,
      "outputs": []
    },
    {
      "cell_type": "code",
      "metadata": {
        "id": "Ebw4BUU03a0Y",
        "colab_type": "code",
        "colab": {
          "base_uri": "https://localhost:8080/",
          "height": 69
        },
        "outputId": "a977e43d-9834-4f75-d362-266b184c22b8"
      },
      "source": [
        "alpha = 1e-5\n",
        "B1 = 0.1\n",
        "B0 = 0.1\n",
        "\n",
        "for i in range(1500000):\n",
        "  y_pred = B0 + B1 * x\n",
        "  \n",
        "  B0 -= alpha * (2/n) * np.sum((y_pred - y))\n",
        "  B1 -= alpha * (2/n) * np.sum((y_pred - y) * x)\n",
        "  \n",
        "  if i % 500000 == 0:\n",
        "    print(f'Iteration = {i}, B0 = {B0}, B1 = {B1}, mse = {mse2(B0, B1)}')"
      ],
      "execution_count": 24,
      "outputs": [
        {
          "output_type": "stream",
          "text": [
            "Iteration = 0, B0 = 0.1139932, B1 = 1.6950780000000003, mse = 298805.38996099564\n",
            "Iteration = 500000, B0 = 409.0359675710964, B1 = 2.8791950478876815, mse = 6783.669380682817\n",
            "Iteration = 1000000, B0 = 441.396215664944, B1 = 2.6410093146294247, mse = 6472.376235570253\n"
          ],
          "name": "stdout"
        }
      ]
    },
    {
      "cell_type": "code",
      "metadata": {
        "id": "uxwnSWWr0jTm",
        "colab_type": "code",
        "colab": {
          "base_uri": "https://localhost:8080/",
          "height": 269
        },
        "outputId": "836467e5-f51b-4418-820a-92895d263930"
      },
      "source": [
        "plt.scatter(x, y)\n",
        "\n",
        "# gradient descent plot with intercept\n",
        "\n",
        "plt.plot(x, B0 + B1 * x, c='r', alpha=0.4)\n",
        "\n",
        "plt.grid()\n",
        "plt.show()"
      ],
      "execution_count": 25,
      "outputs": [
        {
          "output_type": "display_data",
          "data": {
            "image/png": "[encoded data removed]",
            "text/plain": [
              "<Figure size 432x288 with 1 Axes>"
            ]
          },
          "metadata": {
            "tags": []
          }
        }
      ]
    }
  ]
}