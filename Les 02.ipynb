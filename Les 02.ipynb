{
 "cells": [
  {
   "cell_type": "code",
   "execution_count": 27,
   "metadata": {},
   "outputs": [],
   "source": [
    "from math import factorial as fact"
   ]
  },
  {
   "cell_type": "markdown",
   "metadata": {},
   "source": [
    "#### 1. Вероятность того, что стрелок попадет в мишень, выстрелив один раз, равна 0.8. Стрелок выстрелил 100 раз. Найдите вероятность того, что стрелок попадет в цель ровно 85 раз.\n",
    "\n"
   ]
  },
  {
   "cell_type": "code",
   "execution_count": 2,
   "metadata": {},
   "outputs": [
    {
     "name": "stdout",
     "output_type": "stream",
     "text": [
      "Вероятность попадания стрелка в цель ровно 85 раз (по формуле Бернулли) = 0.04806\n"
     ]
    }
   ],
   "source": [
    "# Распределение по Бернулли\n",
    "\n",
    "n = 100\n",
    "\n",
    "p = 0.8\n",
    "\n",
    "q = 1 - p\n",
    "\n",
    "k = 85\n",
    "\n",
    "C_nk = fact(n) / (fact(k) * fact(n - k))\n",
    "\n",
    "P_85 = C_nk * p**k * q**(n - k)\n",
    "\n",
    "print(f'Вероятность попадания стрелка в цель ровно 85 раз (по формуле Бернулли) = {round(P_85, 5)}')"
   ]
  },
  {
   "cell_type": "markdown",
   "metadata": {},
   "source": [
    "#### 2. Вероятность того, что лампочка перегорит в течение первого дня эксплуатации, равна 0.0004. В жилом комплексе после ремонта в один день включили 5000 новых лампочек. Какова вероятность, что ни одна из них не перегорит в первый день? Какова вероятность, что перегорят ровно две?"
   ]
  },
  {
   "cell_type": "code",
   "execution_count": 25,
   "metadata": {},
   "outputs": [],
   "source": [
    "# Т.к. кол-во испытаний велико, и вероятность наступления события мала - считаем по Пуассону\n",
    "\n",
    "def poisson(p, n, m):\n",
    "  \n",
    "  lambd = n*p\n",
    "  e = 2.72\n",
    "  \n",
    "  return ((lambd**m) / fact(m)) * (e**-lambd)"
   ]
  },
  {
   "cell_type": "code",
   "execution_count": 24,
   "metadata": {},
   "outputs": [
    {
     "name": "stdout",
     "output_type": "stream",
     "text": [
      "Вероятность что в первый день не перегорит ни одной лампочки = 0.13516\n",
      "Вероятность что в первый день перегорит две лампочки = 0.27033\n"
     ]
    }
   ],
   "source": [
    "print(f'Вероятность что в первый день не перегорит ни одной лампочки = {round(poisson(0.0004, 5000, 0), 5)}')\n",
    "print(f'Вероятность что в первый день перегорит две лампочки = {round(poisson(0.0004, 5000, 2), 5)}')"
   ]
  },
  {
   "cell_type": "markdown",
   "metadata": {},
   "source": [
    "#### 3. Монету подбросили 144 раза. Какова вероятность, что орел выпадет ровно 70 раз?"
   ]
  },
  {
   "cell_type": "code",
   "execution_count": 29,
   "metadata": {},
   "outputs": [
    {
     "name": "stdout",
     "output_type": "stream",
     "text": [
      "Вероятность, что монета, подброшенная 144 раза выпадет олом ровно 70 раз = 0.06281\n"
     ]
    }
   ],
   "source": [
    "# Считаем по бернулли\n",
    "\n",
    "p = 0.5\n",
    "\n",
    "n = 144\n",
    "\n",
    "q = 1-p\n",
    "\n",
    "k = 70\n",
    "\n",
    "C_nk = fact(n) / (fact(k) * fact(n - k))\n",
    "\n",
    "C_70 = C_nk * p**k * q**(n - k)\n",
    "\n",
    "print(f'Вероятность, что монета, подброшенная 144 раза выпадет олом ровно 70 раз = {round(C_70, 5)}')"
   ]
  },
  {
   "cell_type": "markdown",
   "metadata": {},
   "source": [
    "#### 4. В первом ящике находится 10 мячей, из которых 7 - белые. Во втором ящике - 11 мячей, из которых 9 белых. Из каждого ящика вытаскивают случайным образом по два мяча. Какова вероятность того, что все мячи белые? Какова вероятность того, что ровно два мяча белые? Какова вероятность того, что хотя бы один мяч белый?"
   ]
  },
  {
   "cell_type": "code",
   "execution_count": null,
   "metadata": {},
   "outputs": [],
   "source": []
  }
 ],
 "metadata": {
  "kernelspec": {
   "display_name": "Python 3",
   "language": "python",
   "name": "python3"
  },
  "language_info": {
   "codemirror_mode": {
    "name": "ipython",
    "version": 3
   },
   "file_extension": ".py",
   "mimetype": "text/x-python",
   "name": "python",
   "nbconvert_exporter": "python",
   "pygments_lexer": "ipython3",
   "version": "3.7.1"
  }
 },
 "nbformat": 4,
 "nbformat_minor": 2
}
