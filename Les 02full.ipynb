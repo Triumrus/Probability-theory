{
 "cells": [
  {
   "cell_type": "code",
   "execution_count": 27,
   "metadata": {},
   "outputs": [],
   "source": [
    "from math import factorial as fact"
   ]
  },
  {
   "cell_type": "markdown",
   "metadata": {},
   "source": [
    "#### 1. Вероятность того, что стрелок попадет в мишень, выстрелив один раз, равна 0.8. Стрелок выстрелил 100 раз. Найдите вероятность того, что стрелок попадет в цель ровно 85 раз.\n",
    "\n"
   ]
  },
  {
   "cell_type": "code",
   "execution_count": 2,
   "metadata": {},
   "outputs": [
    {
     "name": "stdout",
     "output_type": "stream",
     "text": [
      "Вероятность попадания стрелка в цель ровно 85 раз (по формуле Бернулли) = 0.04806\n"
     ]
    }
   ],
   "source": [
    "# Распределение по Бернулли\n",
    "\n",
    "n = 100\n",
    "\n",
    "p = 0.8\n",
    "\n",
    "q = 1 - p\n",
    "\n",
    "k = 85\n",
    "\n",
    "C_nk = fact(n) / (fact(k) * fact(n - k))\n",
    "\n",
    "P_85 = C_nk * p**k * q**(n - k)\n",
    "\n",
    "print(f'Вероятность попадания стрелка в цель ровно 85 раз (по формуле Бернулли) = {round(P_85, 5)}')"
   ]
  },
  {
   "cell_type": "markdown",
   "metadata": {},
   "source": [
    "#### 2. Вероятность того, что лампочка перегорит в течение первого дня эксплуатации, равна 0.0004. В жилом комплексе после ремонта в один день включили 5000 новых лампочек. Какова вероятность, что ни одна из них не перегорит в первый день? Какова вероятность, что перегорят ровно две?"
   ]
  },
  {
   "cell_type": "code",
   "execution_count": 25,
   "metadata": {},
   "outputs": [],
   "source": [
    "# Т.к. кол-во испытаний велико, и вероятность наступления события мала - считаем по Пуассону\n",
    "\n",
    "def poisson(p, n, m):\n",
    "  \n",
    "  lambd = n*p\n",
    "  e = 2.72\n",
    "  \n",
    "  return ((lambd**m) / fact(m)) * (e**-lambd)"
   ]
  },
  {
   "cell_type": "code",
   "execution_count": 24,
   "metadata": {},
   "outputs": [
    {
     "name": "stdout",
     "output_type": "stream",
     "text": [
      "Вероятность что в первый день не перегорит ни одной лампочки = 0.13516\n",
      "Вероятность что в первый день перегорит две лампочки = 0.27033\n"
     ]
    }
   ],
   "source": [
    "print(f'Вероятность что в первый день не перегорит ни одной лампочки = {round(poisson(0.0004, 5000, 0), 5)}')\n",
    "print(f'Вероятность что в первый день перегорит две лампочки = {round(poisson(0.0004, 5000, 2), 5)}')"
   ]
  },
  {
   "cell_type": "markdown",
   "metadata": {},
   "source": [
    "#### 3. Монету подбросили 144 раза. Какова вероятность, что орел выпадет ровно 70 раз?"
   ]
  },
  {
   "cell_type": "code",
   "execution_count": 29,
   "metadata": {},
   "outputs": [
    {
     "name": "stdout",
     "output_type": "stream",
     "text": [
      "Вероятность, что монета, подброшенная 144 раза выпадет олом ровно 70 раз = 0.06281\n"
     ]
    }
   ],
   "source": [
    "# Считаем по бернулли\n",
    "\n",
    "p = 0.5\n",
    "\n",
    "n = 144\n",
    "\n",
    "q = 1-p\n",
    "\n",
    "k = 70\n",
    "\n",
    "C_nk = fact(n) / (fact(k) * fact(n - k))\n",
    "\n",
    "C_70 = C_nk * p**k * q**(n - k)\n",
    "\n",
    "print(f'Вероятность, что монета, подброшенная 144 раза выпадет олом ровно 70 раз = {round(C_70, 5)}')"
   ]
  },
  {
   "cell_type": "markdown",
   "metadata": {},
   "source": [
    "#### 4. В первом ящике находится 10 мячей, из которых 7 - белые. Во втором ящике - 11 мячей, из которых 9 белых. Из каждого ящика вытаскивают случайным образом по два мяча. \n",
    "    а) Какова вероятность того, что все мячи белые? "
   ]
  },
  {
   "cell_type": "code",
   "execution_count": 38,
   "metadata": {},
   "outputs": [],
   "source": [
    "def comb(n, k):\n",
    "  return fact(n) / (fact(k) * fact(n-k))"
   ]
  },
  {
   "cell_type": "code",
   "execution_count": 43,
   "metadata": {},
   "outputs": [
    {
     "data": {
      "text/plain": [
       "0.4666666666666667"
      ]
     },
     "execution_count": 43,
     "metadata": {},
     "output_type": "execute_result"
    }
   ],
   "source": [
    "# Вероятность вытащить 2 белых мяча из 1ой корзины \n",
    "\n",
    "C1_w1 = comb(7, 2)\n",
    "\n",
    "C1_w2 = comb(10, 2)\n",
    "\n",
    "C1_allwhite = C1_w1 / C1_w2\n",
    "\n",
    "C1_allwhite"
   ]
  },
  {
   "cell_type": "code",
   "execution_count": 45,
   "metadata": {},
   "outputs": [
    {
     "data": {
      "text/plain": [
       "0.6545454545454545"
      ]
     },
     "execution_count": 45,
     "metadata": {},
     "output_type": "execute_result"
    }
   ],
   "source": [
    "# Вероятность вытащить 2 белых мяча из 2ой корзины\n",
    "\n",
    "C2_w1 = comb(9, 2)\n",
    "\n",
    "C2_w2 = comb(11, 2)\n",
    "\n",
    "C2_allwhite = C2_w1 / C2_w2\n",
    "\n",
    "C2_allwhite"
   ]
  },
  {
   "cell_type": "code",
   "execution_count": 50,
   "metadata": {},
   "outputs": [
    {
     "name": "stdout",
     "output_type": "stream",
     "text": [
      "Вероятность вытащить всего 4 белых мяча из обеих корзин = 0.30545\n"
     ]
    }
   ],
   "source": [
    "print(f'Вероятность вытащить всего 4 белых мяча из обеих корзин = {round((C2_allwhite * C1_allwhite), 5)}')"
   ]
  },
  {
   "cell_type": "markdown",
   "metadata": {},
   "source": [
    "    б) Какова вероятность того, что ровно два мяча белые? "
   ]
  },
  {
   "cell_type": "code",
   "execution_count": 69,
   "metadata": {},
   "outputs": [],
   "source": [
    "# Два белых из первой корзины\n",
    "C2_from1 = 7/10 * 6/9 * 2/11 * 1/10"
   ]
  },
  {
   "cell_type": "code",
   "execution_count": 71,
   "metadata": {},
   "outputs": [],
   "source": [
    "# Два белых из второй корзины\n",
    "C2_from2 = 9/11 * 8/10 * 3/10 * 2/9"
   ]
  },
  {
   "cell_type": "code",
   "execution_count": 72,
   "metadata": {},
   "outputs": [],
   "source": [
    "# По одному белому из каждой корзины\n",
    "C2_from_both = (7/10 * 3/9 + 3/10 * 7/9) * (9/11 * 2/10 + 2/11 * 9/10)"
   ]
  },
  {
   "cell_type": "code",
   "execution_count": 74,
   "metadata": {},
   "outputs": [
    {
     "name": "stdout",
     "output_type": "stream",
     "text": [
      "Вероятность того, что из 4х вытянутых мячей ровно 2 будут белыми = 0.20485\n"
     ]
    }
   ],
   "source": [
    "print(f'Вероятность того, что из 4х вытянутых мячей ровно 2 будут белыми = {round(C2_from1 + C2_from2 + C2_from_both, 5)}')"
   ]
  },
  {
   "cell_type": "markdown",
   "metadata": {},
   "source": [
    "    в) Какова вероятность того, что хотя бы один мяч белый?"
   ]
  },
  {
   "cell_type": "code",
   "execution_count": 77,
   "metadata": {},
   "outputs": [
    {
     "name": "stdout",
     "output_type": "stream",
     "text": [
      "Вероятность того, что будет хотя бы 1 белый мяч (или более) = 0.9987878787878788\n"
     ]
    }
   ],
   "source": [
    "# Проще считать какова вероятность, что все выбранные мячи будут черными, а потом отнять эту вероятность от 1\n",
    "\n",
    "all_black = 3/10 * 2/9 * 2/11 * 1/10\n",
    "\n",
    "print(f'Вероятность того, что будет хотя бы 1 белый мяч (или более) = {1 - all_black}')"
   ]
  },
  {
   "cell_type": "markdown",
   "metadata": {},
   "source": [
    "#### 4. Решение методом монте карло."
   ]
  },
  {
   "cell_type": "code",
   "execution_count": 60,
   "metadata": {},
   "outputs": [],
   "source": [
    "import numpy as np\n",
    "import time"
   ]
  },
  {
   "cell_type": "code",
   "execution_count": 64,
   "metadata": {},
   "outputs": [
    {
     "name": "stderr",
     "output_type": "stream",
     "text": [
      "C:\\Users\\Panzer\\Anaconda3\\lib\\site-packages\\ipykernel_launcher.py:1: DeprecationWarning: time.clock has been deprecated in Python 3.3 and will be removed from Python 3.8: use time.perf_counter or time.process_time instead\n",
      "  \"\"\"Entry point for launching an IPython kernel.\n"
     ]
    },
    {
     "name": "stdout",
     "output_type": "stream",
     "text": [
      "Вероятность того что все 4 мяча белые = 0.30649\n",
      "Вероятность того что 2 мяча белые = 0.20458\n",
      "Вероятность того что хотя бы один мячь белый = 0.99883\n",
      "\n",
      "Время на выполнение поиска вероятность по методу монте карло,при 100000 итерациях = 10.827 секунд\n"
     ]
    },
    {
     "name": "stderr",
     "output_type": "stream",
     "text": [
      "C:\\Users\\Panzer\\Anaconda3\\lib\\site-packages\\ipykernel_launcher.py:26: DeprecationWarning: time.clock has been deprecated in Python 3.3 and will be removed from Python 3.8: use time.perf_counter or time.process_time instead\n"
     ]
    }
   ],
   "source": [
    "start_time = time.clock()\n",
    "\n",
    "a = np.array([1,1,1,1,1,1,1,0,0,0])\n",
    "b = np.array([1,1,1,1,1,1,1,1,1,0,0])\n",
    "\n",
    "n = 100000\n",
    "p1, p2, p3 = 0, 0, 0\n",
    "\n",
    "for i in range(n):\n",
    "    np.random.shuffle(a)\n",
    "    np.random.shuffle(b)\n",
    "    \n",
    "    if sum(a[:2]) + sum(b[:2]) == 4:\n",
    "      p1 += 1\n",
    "      \n",
    "    elif sum(a[:2]) + sum(b[:2]) == 2:\n",
    "      p2 += 1\n",
    "      \n",
    "    elif sum(a[:2]) + sum(b[:2]) == 0:\n",
    "      p3 += 1\n",
    "      \n",
    "print(f'Вероятность того что все 4 мяча белые = {p1/n}')\n",
    "print(f'Вероятность того что 2 мяча белые = {p2/n}')\n",
    "print(f'Вероятность того что хотя бы один мячь белый = {1 - (p3/n)}\\n')\n",
    "\n",
    "print(f'Время на выполнение поиска вероятность по методу монте карло,' \n",
    "      f'при {n} итерациях = {round(((start_time - time.clock()) * -1), 3)} секунд')"
   ]
  }
 ],
 "metadata": {
  "kernelspec": {
   "display_name": "Python 3",
   "language": "python",
   "name": "python3"
  },
  "language_info": {
   "codemirror_mode": {
    "name": "ipython",
    "version": 3
   },
   "file_extension": ".py",
   "mimetype": "text/x-python",
   "name": "python",
   "nbconvert_exporter": "python",
   "pygments_lexer": "ipython3",
   "version": "3.7.1"
  }
 },
 "nbformat": 4,
 "nbformat_minor": 2
}
