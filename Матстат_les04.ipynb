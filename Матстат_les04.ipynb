{
  "nbformat": 4,
  "nbformat_minor": 0,
  "metadata": {
    "colab": {
      "name": "Матстат les04.ipynb",
      "version": "0.3.2",
      "provenance": [],
      "collapsed_sections": [],
      "include_colab_link": true
    },
    "kernelspec": {
      "name": "python3",
      "display_name": "Python 3"
    }
  },
  "cells": [
    {
      "cell_type": "markdown",
      "metadata": {
        "id": "view-in-github",
        "colab_type": "text"
      },
      "source": [
        "<a href=\"https://colab.research.google.com/github/panzershracker/Probability-theory/blob/master/%D0%9C%D0%B0%D1%82%D1%81%D1%82%D0%B0%D1%82_les04.ipynb\" target=\"_parent\"><img src=\"https://colab.research.google.com/assets/colab-badge.svg\" alt=\"Open In Colab\"/></a>"
      ]
    },
    {
      "cell_type": "code",
      "metadata": {
        "id": "2SgsiT3-gUL8",
        "colab_type": "code",
        "colab": {}
      },
      "source": [
        "import numpy as np\n",
        "import seaborn as sns\n",
        "import matplotlib.pyplot as plt"
      ],
      "execution_count": 0,
      "outputs": []
    },
    {
      "cell_type": "markdown",
      "metadata": {
        "id": "SPw9KGicepTz",
        "colab_type": "text"
      },
      "source": [
        "**1. Случайная непрерывная величина A имеет равномерное распределение на промежутке (200, 800). \n",
        "Найдите ее среднее значение и дисперсию.**"
      ]
    },
    {
      "cell_type": "code",
      "metadata": {
        "id": "6HDc5uchdm50",
        "colab_type": "code",
        "outputId": "1813fb89-9f88-4731-d338-df8354d3a5fe",
        "colab": {
          "base_uri": "https://localhost:8080/",
          "height": 35
        }
      },
      "source": [
        "# Матожидание\n",
        "\n",
        "M = (200 + 800) / 2\n",
        "\n",
        "M"
      ],
      "execution_count": 25,
      "outputs": [
        {
          "output_type": "execute_result",
          "data": {
            "text/plain": [
              "500.0"
            ]
          },
          "metadata": {
            "tags": []
          },
          "execution_count": 25
        }
      ]
    },
    {
      "cell_type": "code",
      "metadata": {
        "id": "06MDBf8_oFQ6",
        "colab_type": "code",
        "outputId": "762f9893-bb24-4c24-8fa7-a7c3d438a4ee",
        "colab": {
          "base_uri": "https://localhost:8080/",
          "height": 35
        }
      },
      "source": [
        "# Дисперсия\n",
        "\n",
        "D = ((800 - 200)**2) / 12\n",
        "\n",
        "D"
      ],
      "execution_count": 26,
      "outputs": [
        {
          "output_type": "execute_result",
          "data": {
            "text/plain": [
              "30000.0"
            ]
          },
          "metadata": {
            "tags": []
          },
          "execution_count": 26
        }
      ]
    },
    {
      "cell_type": "markdown",
      "metadata": {
        "id": "zH-orlwger_u",
        "colab_type": "text"
      },
      "source": [
        "**2. О случайной непрерывной равномерно распределенной величине B известно, что ее дисперсия равна 0.2.\n",
        "Можно ли найти правую границу величины B и ее среднее значение зная, что левая граница равна 0.5?\n",
        "Если да, найдите ее.**"
      ]
    },
    {
      "cell_type": "code",
      "metadata": {
        "id": "hjZIArMwespi",
        "colab_type": "code",
        "outputId": "ebd07255-0213-4c72-948c-2a29cfc473b0",
        "colab": {
          "base_uri": "https://localhost:8080/",
          "height": 35
        }
      },
      "source": [
        "# 0.2 = x**2 - 0.5**2 / 12\n",
        "\n",
        "# x - 0.5 = sqrt(0.2 * 12)\n",
        "\n",
        "x = 0.5 + np.sqrt(0.2 * 12)\n",
        "\n",
        "print(f'Павая граница величины {x}')"
      ],
      "execution_count": 27,
      "outputs": [
        {
          "output_type": "stream",
          "text": [
            "Павая граница величины 2.049193338482967\n"
          ],
          "name": "stdout"
        }
      ]
    },
    {
      "cell_type": "code",
      "metadata": {
        "id": "I7Xl6Z_CxnQV",
        "colab_type": "code",
        "outputId": "3395839c-d831-43f3-cef0-2e83b7b13767",
        "colab": {
          "base_uri": "https://localhost:8080/",
          "height": 35
        }
      },
      "source": [
        "M = (x + 0.5) / 2\n",
        "\n",
        "print(f'Матожидание = {M}')"
      ],
      "execution_count": 28,
      "outputs": [
        {
          "output_type": "stream",
          "text": [
            "Матожидание = 1.2745966692414834\n"
          ],
          "name": "stdout"
        }
      ]
    },
    {
      "cell_type": "markdown",
      "metadata": {
        "id": "qJNHuttpes_2",
        "colab_type": "text"
      },
      "source": [
        "**3. Непрерывная случайная величина X распределена нормально и задана плотностью распределения**\n",
        "\n",
        "f(x) = (1 / (4 * sqrt(2*pi))) * (exp(-(x+2)^ 2) / 32).\n",
        "\n",
        "Найдите:\n",
        "\n",
        " а). M(X)\n",
        " \n",
        "б). D(X)\n",
        "\n",
        "в). std(X) (среднее квадратичное отклонение)"
      ]
    },
    {
      "cell_type": "markdown",
      "metadata": {
        "id": "Vg4GepO86OP0",
        "colab_type": "text"
      },
      "source": [
        "**Решение:**"
      ]
    },
    {
      "cell_type": "markdown",
      "metadata": {
        "id": "lqTqlCDai6VZ",
        "colab_type": "text"
      },
      "source": [
        "## $$f(x) = \\frac{1}{\\sigma \\sqrt{2 \\pi}} e ^ {- \\frac{(x - a)^2}{2 \\sigma^2}},$$"
      ]
    },
    {
      "cell_type": "markdown",
      "metadata": {
        "id": "E_350Opf4BhQ",
        "colab_type": "text"
      },
      "source": [
        "#### Исходя из формулы - все ответы есть в исходном уравнении\n",
        "\n",
        "а) M(X) = a = -2\n",
        "\n",
        "б) D(X) = sigma** 2 = 16\n",
        "\n",
        "в) std(X) = sigma = 4"
      ]
    },
    {
      "cell_type": "markdown",
      "metadata": {
        "id": "zSFEJPQretqr",
        "colab_type": "text"
      },
      "source": [
        "**4. Рост взрослого населения города X имеет нормальное распределение. \n",
        "Причем, средний рост равен 174 см, а среднее квадратичное отклонение равно 8 см.\n",
        "Какова вероятность того, что случайным образом выбранный взрослый человек имеет рост:**\n",
        "\n",
        "а). больше 182 см\n",
        "\n",
        "б). больше 190 см\n",
        "\n",
        "в). от 166 см до 190 см\n",
        "\n",
        "г). от 166 см до 182 см\n",
        "\n",
        "д). от 158 см до 190 см\n",
        "\n",
        "е). не выше 150 см или не ниже 190 см\n",
        "\n",
        "ё). не выше 150 см или не ниже 198 см\n",
        "\n",
        "ж). ниже 166 см."
      ]
    },
    {
      "cell_type": "code",
      "metadata": {
        "id": "IYS6v3m0euGW",
        "colab_type": "code",
        "colab": {}
      },
      "source": [
        "mu = 174\n",
        "sigma = 8\n",
        "\n",
        "pop = np.random.normal(mu, sigma, 10000)"
      ],
      "execution_count": 0,
      "outputs": []
    },
    {
      "cell_type": "code",
      "metadata": {
        "id": "8ikoEpPoIW6h",
        "colab_type": "code",
        "colab": {}
      },
      "source": [
        "# +-sigma = 166, 182  68%\n",
        "# +-2sigma = 158, 190  95.4%\n",
        "# +-3sigma = 150, 198  99.72%"
      ],
      "execution_count": 0,
      "outputs": []
    },
    {
      "cell_type": "code",
      "metadata": {
        "id": "EWiz-zCaJd23",
        "colab_type": "code",
        "colab": {}
      },
      "source": [
        "sigmas = [150, 158, 166, 182, 190, 198]"
      ],
      "execution_count": 0,
      "outputs": []
    },
    {
      "cell_type": "code",
      "metadata": {
        "id": "9euT3M7ZBnna",
        "colab_type": "code",
        "outputId": "9a56f8b3-de99-4eac-9d53-a664b1a7051e",
        "colab": {
          "base_uri": "https://localhost:8080/",
          "height": 269
        }
      },
      "source": [
        "plt.hist(pop, bins=50, edgecolor='w', alpha=0.4)\n",
        "\n",
        "plt.bar(sigmas, 600, color='r', alpha=0.4, width=0.4)\n",
        "plt.bar(mu, 600, color='darkred', width=0.5)\n",
        "\n",
        "\n",
        "plt.show()"
      ],
      "execution_count": 32,
      "outputs": [
        {
          "output_type": "display_data",
          "data": {
            "image/png": "[encoded data removed]",
            "text/plain": [
              "<Figure size 432x288 with 1 Axes>"
            ]
          },
          "metadata": {
            "tags": []
          }
        }
      ]
    },
    {
      "cell_type": "code",
      "metadata": {
        "id": "MPnFk_SUS--q",
        "colab_type": "code",
        "outputId": "fc65a2bb-8d5b-4b50-9ce9-46fd9a4f1eaf",
        "colab": {
          "base_uri": "https://localhost:8080/",
          "height": 35
        }
      },
      "source": [
        "print(f'Вероятность роста больше 182 см = {round(((100 - 68) / 2) / 100, 3)}')"
      ],
      "execution_count": 33,
      "outputs": [
        {
          "output_type": "stream",
          "text": [
            "Вероятность роста больше 182 см = 0.16\n"
          ],
          "name": "stdout"
        }
      ]
    },
    {
      "cell_type": "code",
      "metadata": {
        "id": "EnVqTCWhiGjR",
        "colab_type": "code",
        "outputId": "52a28b2d-45d5-4282-c06b-43b371872c4c",
        "colab": {
          "base_uri": "https://localhost:8080/",
          "height": 35
        }
      },
      "source": [
        "print(f'Вероятность роста больше 190 см = {round(((100 - 95.4) / 2) / 100, 3)}')"
      ],
      "execution_count": 34,
      "outputs": [
        {
          "output_type": "stream",
          "text": [
            "Вероятность роста больше 190 см = 0.023\n"
          ],
          "name": "stdout"
        }
      ]
    },
    {
      "cell_type": "code",
      "metadata": {
        "id": "WUWmOwg2kwKj",
        "colab_type": "code",
        "outputId": "363a7817-cabb-4f84-9b31-dac6e396aad3",
        "colab": {
          "base_uri": "https://localhost:8080/",
          "height": 35
        }
      },
      "source": [
        "print(f'Вероятность роста от 166 см до 190 см = {round((((95.4 - 68) / 2) + 68) / 100, 3)}')"
      ],
      "execution_count": 35,
      "outputs": [
        {
          "output_type": "stream",
          "text": [
            "Вероятность роста от 166 см до 190 см = 0.817\n"
          ],
          "name": "stdout"
        }
      ]
    },
    {
      "cell_type": "code",
      "metadata": {
        "id": "k5Ei-LsxoLFn",
        "colab_type": "code",
        "outputId": "fa111628-ad06-4c34-eb6b-3ee3d7f6337c",
        "colab": {
          "base_uri": "https://localhost:8080/",
          "height": 35
        }
      },
      "source": [
        "print(f'Вероятность роста от 166 см до 182 см = {round(68/100, 3)}')"
      ],
      "execution_count": 36,
      "outputs": [
        {
          "output_type": "stream",
          "text": [
            "Вероятность роста от 166 см до 182 см = 0.68\n"
          ],
          "name": "stdout"
        }
      ]
    },
    {
      "cell_type": "code",
      "metadata": {
        "id": "jrpDT_9ooqhi",
        "colab_type": "code",
        "outputId": "c59888c6-aba9-49df-dd87-b9d2ea3f3d87",
        "colab": {
          "base_uri": "https://localhost:8080/",
          "height": 35
        }
      },
      "source": [
        "print(f'Вероятность роста от 158 см до 190 см = {round(95.4/100, 3)}')"
      ],
      "execution_count": 37,
      "outputs": [
        {
          "output_type": "stream",
          "text": [
            "Вероятность роста от 158 см до 190 см = 0.954\n"
          ],
          "name": "stdout"
        }
      ]
    },
    {
      "cell_type": "code",
      "metadata": {
        "id": "5eMLGmsAqB6Q",
        "colab_type": "code",
        "outputId": "41a3d22e-d5e5-4e31-e32a-24c7dd8335b1",
        "colab": {
          "base_uri": "https://localhost:8080/",
          "height": 35
        }
      },
      "source": [
        "# Вероятность роста не выше 150 см\n",
        "\n",
        "a = ((100 - 99.72) / 2) / 100\n",
        "\n",
        "# Вероятность роста выше 190 см мы считали ранее\n",
        "\n",
        "b = 0.023\n",
        "\n",
        "print(f'Вероятность роста не выше 150 или не ниже 190 см = {round(a + b, 3)}')"
      ],
      "execution_count": 38,
      "outputs": [
        {
          "output_type": "stream",
          "text": [
            "Вероятность роста не выше 150 или не ниже 190 см = 0.024\n"
          ],
          "name": "stdout"
        }
      ]
    },
    {
      "cell_type": "code",
      "metadata": {
        "id": "w_jGpUajtDe2",
        "colab_type": "code",
        "outputId": "d4a691b5-e969-4206-854b-6afe3971a1e1",
        "colab": {
          "base_uri": "https://localhost:8080/",
          "height": 35
        }
      },
      "source": [
        "print(f'Вероятность роста не выше 150 см или не ниже 198 см = {round((100 - 99.72) / 100, 5)}')"
      ],
      "execution_count": 39,
      "outputs": [
        {
          "output_type": "stream",
          "text": [
            "Вероятность роста не выше 150 см или не ниже 198 см = 0.0028\n"
          ],
          "name": "stdout"
        }
      ]
    },
    {
      "cell_type": "markdown",
      "metadata": {
        "id": "8k1LZ49u1A6v",
        "colab_type": "text"
      },
      "source": [
        ""
      ]
    },
    {
      "cell_type": "code",
      "metadata": {
        "id": "F1MAunlYt-gF",
        "colab_type": "code",
        "outputId": "d9523845-fd6e-42cf-f88d-b03f36341977",
        "colab": {
          "base_uri": "https://localhost:8080/",
          "height": 35
        }
      },
      "source": [
        "print(f'Вероятность роста не выше 166 см равна вероятности не ниже 182 см = 0.16 ')"
      ],
      "execution_count": 40,
      "outputs": [
        {
          "output_type": "stream",
          "text": [
            "Вероятность роста не выше 166 см равна вероятности не ниже 182 см = 0.16 \n"
          ],
          "name": "stdout"
        }
      ]
    },
    {
      "cell_type": "markdown",
      "metadata": {
        "id": "bF3DFt72ewdi",
        "colab_type": "text"
      },
      "source": [
        "**5. На сколько сигм (средних квадратичных отклонений) отклоняется рост человека, равный 190 см, от \n",
        "математического ожидания роста в популяции, в которой M(X) = 178 см и D(X) = 25 кв.см?**"
      ]
    },
    {
      "cell_type": "code",
      "metadata": {
        "colab_type": "code",
        "id": "nk2p7rgMxTb4",
        "colab": {}
      },
      "source": [
        "mu2 = 178\n",
        "sigma2 = np.sqrt(25)\n",
        "pop2 = np.random.normal(mu2, sigma2, 100000)"
      ],
      "execution_count": 0,
      "outputs": []
    },
    {
      "cell_type": "code",
      "metadata": {
        "id": "L1GtYqj7xwuu",
        "colab_type": "code",
        "colab": {}
      },
      "source": [
        "sigmas2 = [163, 168, 173, 183, 188, 193]"
      ],
      "execution_count": 0,
      "outputs": []
    },
    {
      "cell_type": "code",
      "metadata": {
        "colab_type": "code",
        "id": "ylPmI9DcxPVr",
        "colab": {}
      },
      "source": [
        "# +-sigma = 166, 182  68%\n",
        "# +-2sigma = 158, 190  95.4%\n",
        "# +-3sigma = 150, 198  99.72%"
      ],
      "execution_count": 0,
      "outputs": []
    },
    {
      "cell_type": "code",
      "metadata": {
        "colab_type": "code",
        "outputId": "5b9f1b67-3a69-42d1-fc5c-26a0099e8604",
        "id": "sYKX8MF1xPV9",
        "colab": {
          "base_uri": "https://localhost:8080/",
          "height": 269
        }
      },
      "source": [
        "plt.hist(pop2, bins=50, edgecolor='w', alpha=0.4)\n",
        "\n",
        "plt.bar(sigmas2, 7000, color='r', alpha=0.5, width=0.25)\n",
        "plt.bar(mu, 7000, color='darkred', width=0.3)\n",
        "\n",
        "\n",
        "plt.show()"
      ],
      "execution_count": 44,
      "outputs": [
        {
          "output_type": "display_data",
          "data": {
            "image/png": "[encoded data removed]",
            "text/plain": [
              "<Figure size 432x288 with 1 Axes>"
            ]
          },
          "metadata": {
            "tags": []
          }
        }
      ]
    },
    {
      "cell_type": "code",
      "metadata": {
        "id": "3dLZ0DghzELI",
        "colab_type": "code",
        "outputId": "bf0ba1d0-a81b-4d91-cc24-cd95e5b42c1d",
        "colab": {
          "base_uri": "https://localhost:8080/",
          "height": 35
        }
      },
      "source": [
        "print(f'Рост человека 190 см отклоняется от мат ожидания на {(190 - mu2) / sigma2} σ')"
      ],
      "execution_count": 45,
      "outputs": [
        {
          "output_type": "stream",
          "text": [
            "Рост человека 190 см отклоняется от мат ожидания на 2.4 σ\n"
          ],
          "name": "stdout"
        }
      ]
    }
  ]
}