{
 "cells": [
  {
   "cell_type": "markdown",
   "metadata": {},
   "source": [
    "#### 1. Из колоды в 52 карты извлекаются случайным образом 4 карты. \n",
    "    a) Найти вероятность того, что все карты – крести.\n"
   ]
  },
  {
   "cell_type": "code",
   "execution_count": 10,
   "metadata": {},
   "outputs": [
    {
     "name": "stdout",
     "output_type": "stream",
     "text": [
      "Вероятность извлечения всех четырех крестовых карт подряд = 0.0026410564225690276\n"
     ]
    }
   ],
   "source": [
    "# Вроятность извлечения первой крестовой карты\n",
    "\n",
    "a = 1 / 4\n",
    "\n",
    "# вероятность извлечения второй крестовой карты из оставшихся 51 карты\n",
    "\n",
    "b = 12 / 51\n",
    "\n",
    "# Вероятность извлечь третью крестовую карту из оставшихся 50 карт\n",
    "\n",
    "c = 11 / 50\n",
    "\n",
    "# Вероятность извлечь четвертую карту той же масти\n",
    "\n",
    "d = 10 / 49\n",
    "\n",
    "print(f'Вероятность извлечения всех четырех крестовых карт подряд = {a*b*c*d}')"
   ]
  },
  {
   "cell_type": "markdown",
   "metadata": {},
   "source": [
    "    б) Найти вероятность, что среди 4-х карт окажется хотя бы один туз."
   ]
  },
  {
   "cell_type": "code",
   "execution_count": 11,
   "metadata": {},
   "outputs": [],
   "source": [
    "import itertools as it\n",
    "import numpy as np\n",
    "from math import factorial as fact"
   ]
  },
  {
   "cell_type": "code",
   "execution_count": 14,
   "metadata": {},
   "outputs": [],
   "source": [
    "def comb(n, k):\n",
    "  return fact(n) / (fact(k) * fact(n-k))"
   ]
  },
  {
   "cell_type": "code",
   "execution_count": 15,
   "metadata": {},
   "outputs": [
    {
     "data": {
      "text/plain": [
       "270725.0"
      ]
     },
     "execution_count": 15,
     "metadata": {},
     "output_type": "execute_result"
    }
   ],
   "source": [
    "# Решение через нахождение всех не тузов\n",
    "\n",
    "# Комбинации/сочетания нахождения 4 карт из 52 карт\n",
    "\n",
    "all_comb = comb(52, 4)\n",
    "\n",
    "all_comb"
   ]
  },
  {
   "cell_type": "code",
   "execution_count": 16,
   "metadata": {},
   "outputs": [
    {
     "data": {
      "text/plain": [
       "194580.0"
      ]
     },
     "execution_count": 16,
     "metadata": {},
     "output_type": "execute_result"
    }
   ],
   "source": [
    "# Число сочетаний без тузов \n",
    "\n",
    "no_ace_comb = comb(48, 4)\n",
    "\n",
    "no_ace_comb"
   ]
  },
  {
   "cell_type": "code",
   "execution_count": 18,
   "metadata": {},
   "outputs": [
    {
     "data": {
      "text/plain": [
       "0.2812632745405854"
      ]
     },
     "execution_count": 18,
     "metadata": {},
     "output_type": "execute_result"
    }
   ],
   "source": [
    "# Вероятность хотя бы одного туза из 4х карт\n",
    "\n",
    "1 - no_ace_comb / all_comb"
   ]
  },
  {
   "cell_type": "markdown",
   "metadata": {},
   "source": [
    "#### 2. На входной двери подъезда установлен кодовый замок, содержащий десять кнопок с цифрами от 0 до 9. Код содержит три цифры, которые нужно нажать одновременно. Какова вероятность того, что человек, не знающий код, откроет дверь с первой попытки?"
   ]
  },
  {
   "cell_type": "code",
   "execution_count": 19,
   "metadata": {},
   "outputs": [
    {
     "name": "stdout",
     "output_type": "stream",
     "text": [
      "Кол-во возможных сочетаний 3х значных кодов из всех возможных = 120\n"
     ]
    }
   ],
   "source": [
    "# Если цифры нажимаются одновременно - то последовательность не имеет значения, т.е. задача на поиск сочетаний:\n",
    "\n",
    "comb2 = list(it.combinations(np.arange(0, 10), 3))\n",
    "\n",
    "print(f'Кол-во возможных сочетаний 3х значных кодов из всех возможных = {len(comb2)}')"
   ]
  },
  {
   "cell_type": "code",
   "execution_count": 20,
   "metadata": {},
   "outputs": [
    {
     "name": "stdout",
     "output_type": "stream",
     "text": [
      "Вероятность угадывания 3х значного кода с первого раза = 1 / 120 = 0.008333333333333333\n"
     ]
    }
   ],
   "source": [
    "print(f'Вероятность угадывания 3х значного кода с первого раза = 1 / 120 = {1 / len(comb2)}')"
   ]
  },
  {
   "cell_type": "markdown",
   "metadata": {},
   "source": [
    "#### 3. В ящике имеется 15 деталей, из которых 9 окрашены. Рабочий случайным образом извлекает 3 детали. Какова вероятность того, что все извлеченные детали окрашены?"
   ]
  },
  {
   "cell_type": "code",
   "execution_count": 21,
   "metadata": {},
   "outputs": [
    {
     "name": "stdout",
     "output_type": "stream",
     "text": [
      "Вероятность извлечения 3х окрашенных деталей подряд = 0.18461538461538457\n"
     ]
    }
   ],
   "source": [
    "# вероятность появления первой окрашенной детали \n",
    "\n",
    "a = 9 / 15\n",
    "\n",
    "# Второй\n",
    "\n",
    "b = 8 / 14\n",
    "\n",
    "# третьей\n",
    "\n",
    "c = 7 / 13\n",
    "\n",
    "print(f'Вероятность извлечения 3х окрашенных деталей подряд = {a*b*c}')"
   ]
  },
  {
   "cell_type": "code",
   "execution_count": 23,
   "metadata": {},
   "outputs": [
    {
     "data": {
      "text/plain": [
       "0.18461538461538463"
      ]
     },
     "execution_count": 23,
     "metadata": {},
     "output_type": "execute_result"
    }
   ],
   "source": [
    "# Комбинации извлечения окрашенных шаров\n",
    "\n",
    "comb(9, 3) / comb(15, 3)"
   ]
  },
  {
   "cell_type": "markdown",
   "metadata": {},
   "source": [
    "#### 3. В лотерее 100 билетов. Из них 2 выигрышных. Какова вероятность того, что 2 приобретенных билета окажутся выигрышными?"
   ]
  },
  {
   "cell_type": "code",
   "execution_count": 24,
   "metadata": {},
   "outputs": [
    {
     "name": "stdout",
     "output_type": "stream",
     "text": [
      "Вероятность выбрать 2 выигрышных билета подряд = 0.00020202020202020205\n"
     ]
    }
   ],
   "source": [
    "# Вероятность выигрышности 1-го билета\n",
    "\n",
    "a = 2 / 100\n",
    "\n",
    "# Вероятность выигрышности 2-го\n",
    "\n",
    "b = 1 / 99\n",
    "\n",
    "print(f'Вероятность выбрать 2 выигрышных билета подряд = {a * b}')"
   ]
  }
 ],
 "metadata": {
  "kernelspec": {
   "display_name": "Python 3",
   "language": "python",
   "name": "python3"
  },
  "language_info": {
   "codemirror_mode": {
    "name": "ipython",
    "version": 3
   },
   "file_extension": ".py",
   "mimetype": "text/x-python",
   "name": "python",
   "nbconvert_exporter": "python",
   "pygments_lexer": "ipython3",
   "version": "3.7.1"
  }
 },
 "nbformat": 4,
 "nbformat_minor": 2
}
