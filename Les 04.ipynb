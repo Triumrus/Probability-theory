{
  "nbformat": 4,
  "nbformat_minor": 0,
  "metadata": {
    "colab": {
      "name": "Матстат les04.ipynb",
      "version": "0.3.2",
      "provenance": [],
      "collapsed_sections": []
    },
    "kernelspec": {
      "name": "python3",
      "display_name": "Python 3"
    }
  },
  "cells": [
    {
      "cell_type": "code",
      "metadata": {
        "id": "2SgsiT3-gUL8",
        "colab_type": "code",
        "colab": {}
      },
      "source": [
        "import numpy as np\n",
        "import seaborn as sns\n",
        "import matplotlib.pyplot as plt"
      ],
      "execution_count": 0,
      "outputs": []
    },
    {
      "cell_type": "markdown",
      "metadata": {
        "id": "SPw9KGicepTz",
        "colab_type": "text"
      },
      "source": [
        "**1. Случайная непрерывная величина A имеет равномерное распределение на промежутке (200, 800). \n",
        "Найдите ее среднее значение и дисперсию.**"
      ]
    },
    {
      "cell_type": "code",
      "metadata": {
        "id": "6HDc5uchdm50",
        "colab_type": "code",
        "colab": {
          "base_uri": "https://localhost:8080/",
          "height": 35
        },
        "outputId": "50b8b75b-37ae-4215-f4a1-20156ed9b27e"
      },
      "source": [
        "# Матожидание\n",
        "\n",
        "M = (200 + 800) / 2\n",
        "\n",
        "M"
      ],
      "execution_count": 16,
      "outputs": [
        {
          "output_type": "execute_result",
          "data": {
            "text/plain": [
              "500.0"
            ]
          },
          "metadata": {
            "tags": []
          },
          "execution_count": 16
        }
      ]
    },
    {
      "cell_type": "code",
      "metadata": {
        "id": "06MDBf8_oFQ6",
        "colab_type": "code",
        "colab": {
          "base_uri": "https://localhost:8080/",
          "height": 35
        },
        "outputId": "8e960e6e-c657-4e0c-e2ee-d1c05adaa0cf"
      },
      "source": [
        "# Дисперсия\n",
        "\n",
        "D = ((800 - 200)**2) / 12\n",
        "\n",
        "D"
      ],
      "execution_count": 17,
      "outputs": [
        {
          "output_type": "execute_result",
          "data": {
            "text/plain": [
              "30000.0"
            ]
          },
          "metadata": {
            "tags": []
          },
          "execution_count": 17
        }
      ]
    },
    {
      "cell_type": "markdown",
      "metadata": {
        "id": "zH-orlwger_u",
        "colab_type": "text"
      },
      "source": [
        "**2. О случайной непрерывной равномерно распределенной величине B известно, что ее дисперсия равна 0.2.\n",
        "Можно ли найти правую границу величины B и ее среднее значение зная, что левая граница равна 0.5?\n",
        "Если да, найдите ее.**"
      ]
    },
    {
      "cell_type": "code",
      "metadata": {
        "id": "hjZIArMwespi",
        "colab_type": "code",
        "colab": {
          "base_uri": "https://localhost:8080/",
          "height": 35
        },
        "outputId": "12efa2c9-5dc4-4816-871a-aca33d031c72"
      },
      "source": [
        "# 0.2 = x**2 - 0.5**2 / 12\n",
        "\n",
        "# x - 0.5 = sqrt(0.2 * 12)\n",
        "\n",
        "x = 0.5 + np.sqrt(0.2 * 12)\n",
        "\n",
        "print(f'Павая граница величины {x}')"
      ],
      "execution_count": 19,
      "outputs": [
        {
          "output_type": "stream",
          "text": [
            "Павая граница величины 2.049193338482967\n"
          ],
          "name": "stdout"
        }
      ]
    },
    {
      "cell_type": "code",
      "metadata": {
        "id": "I7Xl6Z_CxnQV",
        "colab_type": "code",
        "colab": {
          "base_uri": "https://localhost:8080/",
          "height": 35
        },
        "outputId": "f477237d-da78-4b80-abb1-e43c69eca564"
      },
      "source": [
        "M = (x - 0.5) / 2\n",
        "\n",
        "print(f'Матожидание = {M}')"
      ],
      "execution_count": 22,
      "outputs": [
        {
          "output_type": "stream",
          "text": [
            "Матожидание = 0.7745966692414834\n"
          ],
          "name": "stdout"
        }
      ]
    },
    {
      "cell_type": "markdown",
      "metadata": {
        "id": "qJNHuttpes_2",
        "colab_type": "text"
      },
      "source": [
        "**3. Непрерывная случайная величина X распределена нормально и задана плотностью распределения**\n",
        "\n",
        "f(x) = (1 / (4 * sqrt(2*pi))) * (exp(-(x+2)^ 2) / 32).\n",
        "\n",
        "Найдите:\n",
        "\n",
        " а). M(X)\n",
        " \n",
        "б). D(X)\n",
        "\n",
        "в). std(X) (среднее квадратичное отклонение)"
      ]
    },
    {
      "cell_type": "markdown",
      "metadata": {
        "id": "Vg4GepO86OP0",
        "colab_type": "text"
      },
      "source": [
        "**Решение:**"
      ]
    },
    {
      "cell_type": "markdown",
      "metadata": {
        "id": "lqTqlCDai6VZ",
        "colab_type": "text"
      },
      "source": [
        "## $$f(x) = \\frac{1}{\\sigma \\sqrt{2 \\pi}} e ^ {- \\frac{(x - a)^2}{2 \\sigma^2}},$$"
      ]
    },
    {
      "cell_type": "markdown",
      "metadata": {
        "id": "E_350Opf4BhQ",
        "colab_type": "text"
      },
      "source": [
        "#### Исходя из формулы - все ответы есть в исходном уравнении\n",
        "\n",
        "а) M(X) = a = -2\n",
        "\n",
        "б) D(X) = sigma** 2 = 16\n",
        "\n",
        "в) std(X) = sigma = 4"
      ]
    },
    {
      "cell_type": "markdown",
      "metadata": {
        "id": "zSFEJPQretqr",
        "colab_type": "text"
      },
      "source": [
        "**4. Рост взрослого населения города X имеет нормальное распределение. \n",
        "Причем, средний рост равен 174 см, а среднее квадратичное отклонение равно 8 см.\n",
        "Какова вероятность того, что случайным образом выбранный взрослый человек имеет рост:**\n",
        "\n",
        "а). больше 182 см\n",
        "\n",
        "б). больше 190 см\n",
        "\n",
        "в). от 166 см до 190 см\n",
        "\n",
        "г). от 166 см до 182 см\n",
        "\n",
        "д). от 158 см до 190 см\n",
        "\n",
        "е). не выше 150 см или не ниже 190 см\n",
        "\n",
        "ё). не выше 150 см или не ниже 198 см\n",
        "\n",
        "ж). ниже 166 см."
      ]
    },
    {
      "cell_type": "code",
      "metadata": {
        "id": "IYS6v3m0euGW",
        "colab_type": "code",
        "colab": {}
      },
      "source": [
        "mu = 174\n",
        "sigma = 8\n",
        "\n",
        "pop = np.random.normal(mu, sigma, 10000)"
      ],
      "execution_count": 0,
      "outputs": []
    },
    {
      "cell_type": "code",
      "metadata": {
        "id": "8ikoEpPoIW6h",
        "colab_type": "code",
        "colab": {}
      },
      "source": [
        "# +-sigma = 166, 182  68%\n",
        "# +-2sigma = 158, 190  95.4%\n",
        "# +-3sigma = 150, 198  99.72%"
      ],
      "execution_count": 0,
      "outputs": []
    },
    {
      "cell_type": "code",
      "metadata": {
        "id": "EWiz-zCaJd23",
        "colab_type": "code",
        "colab": {}
      },
      "source": [
        "sigmas = [150, 158, 166, 182, 190, 198]"
      ],
      "execution_count": 0,
      "outputs": []
    },
    {
      "cell_type": "code",
      "metadata": {
        "id": "9euT3M7ZBnna",
        "colab_type": "code",
        "colab": {
          "base_uri": "https://localhost:8080/",
          "height": 269
        },
        "outputId": "84cd31bb-98b6-4847-c636-001fa452fa62"
      },
      "source": [
        "plt.hist(pop, bins=50, edgecolor='w', alpha=0.4)\n",
        "\n",
        "plt.bar(sigmas, 600, color='r', alpha=0.4, width=0.4)\n",
        "plt.bar(mu, 600, color='darkred', width=0.5)\n",
        "\n",
        "\n",
        "plt.show()"
      ],
      "execution_count": 165,
      "outputs": [
        {
          "output_type": "display_data",
          "data": {
            "image/png": "[encoded data removed]",
            "text/plain": [
              "<Figure size 432x288 with 1 Axes>"
            ]
          },
          "metadata": {
            "tags": []
          }
        }
      ]
    },
    {
      "cell_type": "code",
      "metadata": {
        "id": "MPnFk_SUS--q",
        "colab_type": "code",
        "colab": {
          "base_uri": "https://localhost:8080/",
          "height": 35
        },
        "outputId": "86776037-b25c-42ad-d42e-9ab05e00c70d"
      },
      "source": [
        "print(f'Вероятность роста больше 182 см = {round(((100 - 68) / 2) / 100, 3)}')"
      ],
      "execution_count": 146,
      "outputs": [
        {
          "output_type": "stream",
          "text": [
            "Вероятность роста больше 182 см = 0.16\n"
          ],
          "name": "stdout"
        }
      ]
    },
    {
      "cell_type": "code",
      "metadata": {
        "id": "EnVqTCWhiGjR",
        "colab_type": "code",
        "colab": {
          "base_uri": "https://localhost:8080/",
          "height": 35
        },
        "outputId": "6d1aabbf-017a-4801-c9f4-034008d22e24"
      },
      "source": [
        "print(f'Вероятность роста больше 190 см = {round(((100 - 95.4) / 2) / 100, 3)}')"
      ],
      "execution_count": 139,
      "outputs": [
        {
          "output_type": "stream",
          "text": [
            "Вероятность роста больше 190 см = 0.023\n"
          ],
          "name": "stdout"
        }
      ]
    },
    {
      "cell_type": "code",
      "metadata": {
        "id": "WUWmOwg2kwKj",
        "colab_type": "code",
        "colab": {
          "base_uri": "https://localhost:8080/",
          "height": 35
        },
        "outputId": "484426a0-0842-4335-a0dc-06017ea32515"
      },
      "source": [
        "print(f'Вероятность роста от 166 см до 190 см = {round((((95.4 - 68) / 2) + 68) / 100, 3)}')"
      ],
      "execution_count": 138,
      "outputs": [
        {
          "output_type": "stream",
          "text": [
            "Вероятность роста от 166 см до 190 см = 0.817\n"
          ],
          "name": "stdout"
        }
      ]
    },
    {
      "cell_type": "code",
      "metadata": {
        "id": "k5Ei-LsxoLFn",
        "colab_type": "code",
        "colab": {
          "base_uri": "https://localhost:8080/",
          "height": 35
        },
        "outputId": "6c2c4ab6-2506-41a0-a9fb-832c67029b07"
      },
      "source": [
        "print(f'Вероятность роста от 166 см до 182 см = {round(68/100, 3)}')"
      ],
      "execution_count": 137,
      "outputs": [
        {
          "output_type": "stream",
          "text": [
            "Вероятность роста от 166 см до 182 см = 0.68\n"
          ],
          "name": "stdout"
        }
      ]
    },
    {
      "cell_type": "code",
      "metadata": {
        "id": "jrpDT_9ooqhi",
        "colab_type": "code",
        "colab": {
          "base_uri": "https://localhost:8080/",
          "height": 35
        },
        "outputId": "5fcc1da9-33b8-4f2e-8d51-5afdfdead2e3"
      },
      "source": [
        "print(f'Вероятность роста от 158 см до 190 см = {round(95.4/100, 3)}')"
      ],
      "execution_count": 136,
      "outputs": [
        {
          "output_type": "stream",
          "text": [
            "Вероятность роста от 158 см до 190 см = 0.954\n"
          ],
          "name": "stdout"
        }
      ]
    },
    {
      "cell_type": "code",
      "metadata": {
        "id": "5eMLGmsAqB6Q",
        "colab_type": "code",
        "colab": {
          "base_uri": "https://localhost:8080/",
          "height": 35
        },
        "outputId": "cefb39f3-9311-414a-931a-f357b138baea"
      },
      "source": [
        "# Вероятность роста не выше 150 см\n",
        "\n",
        "a = ((100 - 99.72) / 2) / 100\n",
        "\n",
        "# Вероятность роста выше 190 см мы считали ранее\n",
        "\n",
        "b = 0.023\n",
        "\n",
        "print(f'Вероятность роста не выше 150 или не ниже 190 см = {round(a + b, 3)}')"
      ],
      "execution_count": 142,
      "outputs": [
        {
          "output_type": "stream",
          "text": [
            "Вероятность роста не выше 150 или не ниже 190 см = 0.024\n"
          ],
          "name": "stdout"
        }
      ]
    },
    {
      "cell_type": "code",
      "metadata": {
        "id": "w_jGpUajtDe2",
        "colab_type": "code",
        "colab": {
          "base_uri": "https://localhost:8080/",
          "height": 35
        },
        "outputId": "b2f2d887-d57b-47b6-86d1-d90b64b43780"
      },
      "source": [
        "print(f'Вероятность роста не выше 150 см или не ниже 198 см = {round((100 - 99.72) / 100, 5)}')"
      ],
      "execution_count": 144,
      "outputs": [
        {
          "output_type": "stream",
          "text": [
            "Вероятность роста не выше 150 см или не ниже 198 см = 0.0028\n"
          ],
          "name": "stdout"
        }
      ]
    },
    {
      "cell_type": "markdown",
      "metadata": {
        "id": "8k1LZ49u1A6v",
        "colab_type": "text"
      },
      "source": [
        ""
      ]
    },
    {
      "cell_type": "code",
      "metadata": {
        "id": "F1MAunlYt-gF",
        "colab_type": "code",
        "colab": {
          "base_uri": "https://localhost:8080/",
          "height": 35
        },
        "outputId": "bc466d5a-93be-48c7-8e84-1f3713908fb9"
      },
      "source": [
        "print(f'Вероятность роста не выше 166 см равна вероятности не ниже 182 см = 0.16 ')"
      ],
      "execution_count": 147,
      "outputs": [
        {
          "output_type": "stream",
          "text": [
            "Вероятность роста не выше 166 см равна вероятности не ниже 182 см = 0.16 \n"
          ],
          "name": "stdout"
        }
      ]
    },
    {
      "cell_type": "markdown",
      "metadata": {
        "id": "bF3DFt72ewdi",
        "colab_type": "text"
      },
      "source": [
        "**5. На сколько сигм (средних квадратичных отклонений) отклоняется рост человека, равный 190 см, от \n",
        "математического ожидания роста в популяции, в которой M(X) = 178 см и D(X) = 25 кв.см?**"
      ]
    },
    {
      "cell_type": "code",
      "metadata": {
        "colab_type": "code",
        "id": "nk2p7rgMxTb4",
        "colab": {}
      },
      "source": [
        "mu2 = 178\n",
        "sigma2 = np.sqrt(25)\n",
        "pop2 = np.random.normal(mu2, sigma2, 100000)"
      ],
      "execution_count": 0,
      "outputs": []
    },
    {
      "cell_type": "code",
      "metadata": {
        "id": "L1GtYqj7xwuu",
        "colab_type": "code",
        "colab": {}
      },
      "source": [
        "sigmas2 = [163, 168, 173, 183, 188, 193]"
      ],
      "execution_count": 0,
      "outputs": []
    },
    {
      "cell_type": "code",
      "metadata": {
        "colab_type": "code",
        "id": "ylPmI9DcxPVr",
        "colab": {}
      },
      "source": [
        "# +-sigma = 166, 182  68%\n",
        "# +-2sigma = 158, 190  95.4%\n",
        "# +-3sigma = 150, 198  99.72%"
      ],
      "execution_count": 0,
      "outputs": []
    },
    {
      "cell_type": "code",
      "metadata": {
        "colab_type": "code",
        "outputId": "42cbada4-0f0e-4c5a-bafa-1e827ab284c9",
        "id": "sYKX8MF1xPV9",
        "colab": {
          "base_uri": "https://localhost:8080/",
          "height": 269
        }
      },
      "source": [
        "plt.hist(pop2, bins=50, edgecolor='w', alpha=0.4)\n",
        "\n",
        "plt.bar(sigmas2, 7000, color='r', alpha=0.5, width=0.25)\n",
        "plt.bar(mu, 7000, color='darkred', width=0.3)\n",
        "\n",
        "\n",
        "plt.show()"
      ],
      "execution_count": 162,
      "outputs": [
        {
          "output_type": "display_data",
          "data": {
            "image/png": "[encoded data removed]",
            "text/plain": [
              "<Figure size 432x288 with 1 Axes>"
            ]
          },
          "metadata": {
            "tags": []
          }
        }
      ]
    },
    {
      "cell_type": "code",
      "metadata": {
        "id": "3dLZ0DghzELI",
        "colab_type": "code",
        "colab": {
          "base_uri": "https://localhost:8080/",
          "height": 35
        },
        "outputId": "81507215-65cf-4007-a966-94d795bf0823"
      },
      "source": [
        "print(f'Рост человека 190 см отклоняется от мат ожидания на {(190 - mu2) / sigma2} σ')"
      ],
      "execution_count": 167,
      "outputs": [
        {
          "output_type": "stream",
          "text": [
            "Рост человека 190 см отклоняется от мат ожидания на 2.4 σ\n"
          ],
          "name": "stdout"
        }
      ]
    }
  ]
}