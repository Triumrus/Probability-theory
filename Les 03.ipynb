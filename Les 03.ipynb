{
 "cells": [
  {
   "cell_type": "code",
   "execution_count": 49,
   "metadata": {},
   "outputs": [],
   "source": [
    "import numpy as np\n",
    "from math import factorial as fact"
   ]
  },
  {
   "cell_type": "markdown",
   "metadata": {},
   "source": [
    "#### 1. Даны значения зарплат из выборки выпускников: 100, 80, 75, 77, 89, 33, 45, 25, 65, 17, 30, 24, 57, 55, 70, 75, 65, 84, 90, 150. Посчитать (желательно без использования статистических методов наподобие std, var, mean) среднее арифметическое, среднее квадратичное отклонение, смещенную и несмещенную оценки дисперсий для данной выборки."
   ]
  },
  {
   "cell_type": "code",
   "execution_count": 44,
   "metadata": {},
   "outputs": [],
   "source": [
    "slr = [100, 80, 75, 77, 89, 33, 45, 25, 65, 17, 30, 24, 57, 55, 70, 75, 65, 84, 90, 150]"
   ]
  },
  {
   "cell_type": "code",
   "execution_count": 45,
   "metadata": {},
   "outputs": [
    {
     "name": "stdout",
     "output_type": "stream",
     "text": [
      "Среднеарифметическое = 65.3\n"
     ]
    }
   ],
   "source": [
    "avg = sum(slr) / len(slr)\n",
    "\n",
    "print(f'Среднеарифметическое = {avg}')"
   ]
  },
  {
   "cell_type": "code",
   "execution_count": 46,
   "metadata": {},
   "outputs": [
    {
     "name": "stdout",
     "output_type": "stream",
     "text": [
      "Среднеквадр отклонение = 30.823854398825596\n"
     ]
    }
   ],
   "source": [
    "std = np.sqrt(sum([(x - avg)**2 for x in slr]) / len(slr))\n",
    "\n",
    "print(f'Среднеквадр отклонение = {std}')"
   ]
  },
  {
   "cell_type": "code",
   "execution_count": 47,
   "metadata": {},
   "outputs": [
    {
     "name": "stdout",
     "output_type": "stream",
     "text": [
      "Смещенная оценка дисперсии = 950.11\n"
     ]
    }
   ],
   "source": [
    "print(f'Смещенная оценка дисперсии = {std**2}')"
   ]
  },
  {
   "cell_type": "code",
   "execution_count": 48,
   "metadata": {},
   "outputs": [
    {
     "name": "stdout",
     "output_type": "stream",
     "text": [
      "НЕсмещенная оценка дисперсии = 1000.1157894736842\n"
     ]
    }
   ],
   "source": [
    "print(f'НЕсмещенная оценка дисперсии = '\n",
    "      f'{sum([(x - avg)**2 for x in slr]) / (len(slr) - 1)}')"
   ]
  },
  {
   "cell_type": "markdown",
   "metadata": {},
   "source": [
    "#### 2. В первом ящике находится 8 мячей, из которых 5 - белые. Во втором ящике - 12 мячей, из которых 5 белых. Из первого ящика вытаскивают случайным образом два мяча, из второго - 4. Какова вероятность того, что 3 мяча белые?"
   ]
  },
  {
   "cell_type": "code",
   "execution_count": 81,
   "metadata": {},
   "outputs": [],
   "source": [
    "def comb(n, k):\n",
    "    return fact(n) / (fact(k) * fact(n - k))"
   ]
  },
  {
   "cell_type": "code",
   "execution_count": 97,
   "metadata": {},
   "outputs": [
    {
     "data": {
      "text/plain": [
       "0.015151515151515152"
      ]
     },
     "execution_count": 97,
     "metadata": {},
     "output_type": "execute_result"
    }
   ],
   "source": [
    "# Вероятность 0 белых из первой корзины, 3 - из второй\n",
    "\n",
    "w0 = (comb(5,0)*comb(3,2))/comb(8,2) * (comb(5,3)*comb(7,1))/comb(12,4)\n",
    "w0"
   ]
  },
  {
   "cell_type": "code",
   "execution_count": 100,
   "metadata": {},
   "outputs": [
    {
     "data": {
      "text/plain": [
       "0.22727272727272727"
      ]
     },
     "execution_count": 100,
     "metadata": {},
     "output_type": "execute_result"
    }
   ],
   "source": [
    "# Вероятность 1 белого из первой корзины, 2 - из второй\n",
    "\n",
    "w1 = (comb(5,1)*comb(3,1))/comb(8,2) * (comb(5,2)*comb(7,2))/comb(12,4)\n",
    "w1"
   ]
  },
  {
   "cell_type": "code",
   "execution_count": 105,
   "metadata": {},
   "outputs": [
    {
     "data": {
      "text/plain": [
       "0.12626262626262627"
      ]
     },
     "execution_count": 105,
     "metadata": {},
     "output_type": "execute_result"
    }
   ],
   "source": [
    "# Вероятность достать 2 белых из первой корзины, 1 из второй\n",
    "\n",
    "w2 = (comb(5,2)*comb(3,0))/comb(8,2) * (comb(5,1)*comb(7,3))/comb(12,4)\n",
    "w2"
   ]
  },
  {
   "cell_type": "code",
   "execution_count": 106,
   "metadata": {},
   "outputs": [
    {
     "name": "stdout",
     "output_type": "stream",
     "text": [
      "Вероятность того, что из вынутых 6-ти мячей 3 окажутся белыми = 0.3686868686868687\n"
     ]
    }
   ],
   "source": [
    "print(f'Вероятность того, что из вынутых 6-ти мячей 3 окажутся белыми = {w2+w1+w0}')"
   ]
  },
  {
   "cell_type": "markdown",
   "metadata": {},
   "source": [
    "#### 3. На соревновании по биатлону один из трех спортсменов стреляет и попадает в мишень. Вероятность попадания для первого спортсмена равна 0.9, для второго — 0.8, для третьего — 0.6. Найти вероятность того, что выстрел произведен: a). первым спортсменом б). вторым спортсменом в). третьим спортсменом."
   ]
  },
  {
   "cell_type": "code",
   "execution_count": 125,
   "metadata": {},
   "outputs": [
    {
     "data": {
      "text/plain": [
       "0.7666666666666666"
      ]
     },
     "execution_count": 125,
     "metadata": {},
     "output_type": "execute_result"
    }
   ],
   "source": [
    "A = 1/3 * 0.9 + 1/3 * 0.8 + 1/3 * 0.6\n",
    "A"
   ]
  },
  {
   "cell_type": "code",
   "execution_count": 126,
   "metadata": {},
   "outputs": [
    {
     "data": {
      "text/plain": [
       "0.391304347826087"
      ]
     },
     "execution_count": 126,
     "metadata": {},
     "output_type": "execute_result"
    }
   ],
   "source": [
    "# Вероятность попадания первого\n",
    "\n",
    "p1 = (1/3 * 0.9) / A\n",
    "p1"
   ]
  },
  {
   "cell_type": "code",
   "execution_count": 127,
   "metadata": {},
   "outputs": [
    {
     "data": {
      "text/plain": [
       "0.3478260869565218"
      ]
     },
     "execution_count": 127,
     "metadata": {},
     "output_type": "execute_result"
    }
   ],
   "source": [
    "# Вероятность попадания второго\n",
    "\n",
    "p2 = (1/3 * 0.8) / A\n",
    "p2"
   ]
  },
  {
   "cell_type": "code",
   "execution_count": 128,
   "metadata": {},
   "outputs": [
    {
     "data": {
      "text/plain": [
       "0.2608695652173913"
      ]
     },
     "execution_count": 128,
     "metadata": {},
     "output_type": "execute_result"
    }
   ],
   "source": [
    "# Вероятность попадания третьего\n",
    "\n",
    "p3 = (1/3 * 0.6) / A\n",
    "p3"
   ]
  },
  {
   "cell_type": "code",
   "execution_count": 131,
   "metadata": {},
   "outputs": [
    {
     "data": {
      "text/plain": [
       "1.0"
      ]
     },
     "execution_count": 131,
     "metadata": {},
     "output_type": "execute_result"
    }
   ],
   "source": [
    "# Проверочная сумма\n",
    "\n",
    "p1+p2+p3"
   ]
  },
  {
   "cell_type": "markdown",
   "metadata": {},
   "source": [
    "#### 4. В университет на факультеты A и B поступило равное количество студентов, а на факультет C студентов поступило столько же, сколько на A и B вместе. Вероятность того, что студент факультета A сдаст первую сессию, равна 0.8. Для студента факультета B эта вероятность равна 0.7, а для студента факультета C - 0.9. Студент сдал первую сессию. Какова вероятность, что он учится: a). на факультете A б). на факультете B в). на факультете C?"
   ]
  },
  {
   "cell_type": "code",
   "execution_count": 110,
   "metadata": {},
   "outputs": [
    {
     "data": {
      "text/plain": [
       "0.825"
      ]
     },
     "execution_count": 110,
     "metadata": {},
     "output_type": "execute_result"
    }
   ],
   "source": [
    "# полная вероятность\n",
    "\n",
    "A = 1/4 * 0.8 + 1/4 * 0.7 + 1/2 * 0.9\n",
    "A"
   ]
  },
  {
   "cell_type": "code",
   "execution_count": 118,
   "metadata": {},
   "outputs": [
    {
     "data": {
      "text/plain": [
       "0.24242424242424246"
      ]
     },
     "execution_count": 118,
     "metadata": {},
     "output_type": "execute_result"
    }
   ],
   "source": [
    "# учится на факультете А\n",
    "\n",
    "PA_a = (1/4 * 0.8) / A\n",
    "PA_a"
   ]
  },
  {
   "cell_type": "code",
   "execution_count": 119,
   "metadata": {},
   "outputs": [
    {
     "data": {
      "text/plain": [
       "0.21212121212121213"
      ]
     },
     "execution_count": 119,
     "metadata": {},
     "output_type": "execute_result"
    }
   ],
   "source": [
    "# учится на факультете B\n",
    "\n",
    "PA_b = (1/4 * 0.7) / A\n",
    "PA_b"
   ]
  },
  {
   "cell_type": "code",
   "execution_count": 120,
   "metadata": {},
   "outputs": [
    {
     "data": {
      "text/plain": [
       "0.5454545454545455"
      ]
     },
     "execution_count": 120,
     "metadata": {},
     "output_type": "execute_result"
    }
   ],
   "source": [
    "# учится на факультете C\n",
    "\n",
    "PA_c = (1/2 * 0.9) / A\n",
    "PA_c"
   ]
  },
  {
   "cell_type": "code",
   "execution_count": 123,
   "metadata": {},
   "outputs": [
    {
     "data": {
      "text/plain": [
       "1.0"
      ]
     },
     "execution_count": 123,
     "metadata": {},
     "output_type": "execute_result"
    }
   ],
   "source": [
    "# Проверочная сумма вероятностей\n",
    "\n",
    "PA_a + PA_b + PA_c"
   ]
  },
  {
   "cell_type": "markdown",
   "metadata": {},
   "source": [
    "#### 5. Устройство состоит из трех деталей. Для первой детали вероятность выйти из строя в первый месяц равна 0.1, для второй - 0.2, для третьей - 0.25. Какова вероятность того, что в первый месяц выйдут из строя: а). все детали б). только две детали в). хотя бы одна деталь г). от одной до двух деталей?"
   ]
  },
  {
   "cell_type": "code",
   "execution_count": 149,
   "metadata": {},
   "outputs": [
    {
     "data": {
      "text/plain": [
       "0.005"
      ]
     },
     "execution_count": 149,
     "metadata": {},
     "output_type": "execute_result"
    }
   ],
   "source": [
    "# Вероятность, что все выйдут из строя\n",
    "\n",
    "all_broken = 0.1 * 0.2 * 0.25\n",
    "round(all_broken, 3)"
   ]
  },
  {
   "cell_type": "code",
   "execution_count": 150,
   "metadata": {},
   "outputs": [
    {
     "data": {
      "text/plain": [
       "0.0794"
      ]
     },
     "execution_count": 150,
     "metadata": {},
     "output_type": "execute_result"
    }
   ],
   "source": [
    "# Вероятность, что выйдут из строя только две\n",
    "\n",
    "# Для этого в трех варинтах берем за условие вероятность работы одной из деталей, при условии что 2\n",
    "# другие сломаются\n",
    "\n",
    "two_broken = (0.9*0.2*0.25) + (0.1*0.8*0.25) + (0.1*0.2*0.72)\n",
    "two_broken"
   ]
  },
  {
   "cell_type": "code",
   "execution_count": 152,
   "metadata": {},
   "outputs": [
    {
     "data": {
      "text/plain": [
       "0.45940000000000003"
      ]
     },
     "execution_count": 152,
     "metadata": {},
     "output_type": "execute_result"
    }
   ],
   "source": [
    "# Вероятность что сломается хотя бы одна\n",
    "\n",
    "# Сначала выясним вероятность поломки ТОЛЬКО одной детали\n",
    "\n",
    "one_broken = (0.1*0.8*0.75) + (0.9*0.2*0.75) + (0.9*0.8*0.25)\n",
    "\n",
    "# Теперь вычислим вероятность поломки ХОТЯ БЫ одной детали (от 1 до 3х)\n",
    "\n",
    "# Для этого сложим вероятности поломки: всех деталей, двух, одной\n",
    "\n",
    "atleast_1 = all_broken + two_broken + one_broken\n",
    "\n",
    "atleast_1"
   ]
  },
  {
   "cell_type": "code",
   "execution_count": 153,
   "metadata": {},
   "outputs": [
    {
     "data": {
      "text/plain": [
       "0.4544"
      ]
     },
     "execution_count": 153,
     "metadata": {},
     "output_type": "execute_result"
    }
   ],
   "source": [
    "# Вероятность поломки от одной до двух деталей\n",
    "\n",
    "one_broken + two_broken"
   ]
  }
 ],
 "metadata": {
  "kernelspec": {
   "display_name": "Python 3",
   "language": "python",
   "name": "python3"
  },
  "language_info": {
   "codemirror_mode": {
    "name": "ipython",
    "version": 3
   },
   "file_extension": ".py",
   "mimetype": "text/x-python",
   "name": "python",
   "nbconvert_exporter": "python",
   "pygments_lexer": "ipython3",
   "version": "3.7.1"
  }
 },
 "nbformat": 4,
 "nbformat_minor": 2
}
